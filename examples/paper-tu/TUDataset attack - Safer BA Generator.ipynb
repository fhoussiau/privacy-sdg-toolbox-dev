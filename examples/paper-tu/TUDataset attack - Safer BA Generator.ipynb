{
 "cells": [
  {
   "cell_type": "markdown",
   "id": "c503f2a8",
   "metadata": {},
   "source": [
    "In this notebook, we evaluate the possibility of using graph kernel attacks against TUDatasets. We focus on datasets with privacy applications."
   ]
  },
  {
   "cell_type": "code",
   "execution_count": 1,
   "id": "8616ff8f",
   "metadata": {},
   "outputs": [],
   "source": [
    "import numpy as np\n",
    "import matplotlib.pyplot as plt\n",
    "%matplotlib inline\n",
    "\n",
    "import tapas.datasets\n",
    "import tapas.generators\n",
    "import tapas.threat_models\n",
    "import tapas.attacks"
   ]
  },
  {
   "cell_type": "code",
   "execution_count": 2,
   "id": "fc44704b",
   "metadata": {},
   "outputs": [],
   "source": [
    "np.random.seed(13121)"
   ]
  },
  {
   "cell_type": "markdown",
   "id": "428e2214",
   "metadata": {},
   "source": [
    "## Real-world private datasets\n",
    "\n",
    "The COLLAB dataset contains collaboration networks of academics. They are ego networks for these academics."
   ]
  },
  {
   "cell_type": "code",
   "execution_count": 3,
   "id": "5d2a6ae8",
   "metadata": {},
   "outputs": [],
   "source": [
    "# If you have not yet downloaded the dataset:\n",
    "# data = tapas.datasets.TUDataset.download_and_read(\"COLLAB\")\n",
    "\n",
    "# Otherwise:\n",
    "# data = tapas.datasets.TUDataset.read(\"COLLAB\", \"COLLAB\")"
   ]
  },
  {
   "cell_type": "code",
   "execution_count": 4,
   "id": "948e569a",
   "metadata": {},
   "outputs": [
    {
     "name": "stdout",
     "output_type": "stream",
     "text": [
      "Loading TU graph dataset: deezer_ego_nets\n"
     ]
    }
   ],
   "source": [
    "data = tapas.datasets.TUDataset.read(\"deezer_ego_nets\", \"deezer_ego_nets\")"
   ]
  },
  {
   "cell_type": "markdown",
   "id": "814b8b47",
   "metadata": {},
   "source": [
    "## Memoized kernels\n",
    "\n",
    "In our attacks, the main blocker is that kernels are computed many times over the same graph, leading to massive performance overheads. Memoization is the key here.\n",
    "\n",
    "Importantly, we do not check whether graphs are identical, but merely whether they are stored in the same location in memory.\n",
    "\n",
    "We also use this class to provide a clean interface between grakel kernels and networkx data."
   ]
  },
  {
   "cell_type": "code",
   "execution_count": 5,
   "id": "4221e37c",
   "metadata": {},
   "outputs": [],
   "source": [
    "import networkx as nx\n",
    "from grakel.utils import graph_from_networkx\n",
    "\n",
    "def _grak(graphs):\n",
    "    # Add a label to the graphs, for compatibility with grakel.\n",
    "    for G in graphs:\n",
    "        # Relabel the graph nodes (useful for the kernel).\n",
    "        nx.set_node_attributes(G, dict(zip(G.nodes, range(len(G.nodes)))), \"label\")\n",
    "    return graph_from_networkx(graphs, node_labels_tag=\"label\")"
   ]
  },
  {
   "cell_type": "code",
   "execution_count": 6,
   "id": "2d96fb80",
   "metadata": {},
   "outputs": [],
   "source": [
    "class Memoize:\n",
    "    def __init__(self, kernel):\n",
    "        self.kernel = kernel\n",
    "        self.memory = {}\n",
    "    \n",
    "    def fit(self, tudataset):\n",
    "        self.memory = {}  # Fitting the kernel resets the memory.\n",
    "        self.kernel.fit(_grak(tudataset.data))\n",
    "\n",
    "    def transform(self, tudataset):\n",
    "        # Use G for the key, and grak(G) for the feature transformation.\n",
    "        for G in tudataset.data:\n",
    "            if G not in self.memory:\n",
    "                self.memory[G] = self.kernel.transform(_grak([G]))[0]\n",
    "        return np.stack([self.memory[G] for G in tudataset.data])\n",
    "\n",
    "    def fit_transform(self, tudataset):        \n",
    "        self.fit(tudataset)\n",
    "        return self.transform(tudataset)"
   ]
  },
  {
   "cell_type": "markdown",
   "id": "31134675",
   "metadata": {},
   "source": [
    "We now instantiate a typical kernel."
   ]
  },
  {
   "cell_type": "code",
   "execution_count": 7,
   "id": "e900e7b6",
   "metadata": {},
   "outputs": [],
   "source": [
    "from grakel import WeisfeilerLehman, VertexHistogram\n",
    "\n",
    "# TODO: find a better kernel -- vertex histogram is silly here, since there is very little (no?) overlap.\n",
    "# We address this by relabelling nodes to 1..num_nodes.\n",
    "kernel = Memoize(WeisfeilerLehman(n_iter=4, base_graph_kernel=VertexHistogram, normalize=True))"
   ]
  },
  {
   "cell_type": "markdown",
   "id": "2e499cc8",
   "metadata": {},
   "source": [
    "## Threat modelling (typical TAPAS)"
   ]
  },
  {
   "cell_type": "markdown",
   "id": "14b552f6",
   "metadata": {},
   "source": [
    "We attack the Raw generator, for simplicity. This should be trivially attackable!"
   ]
  },
  {
   "cell_type": "code",
   "execution_count": 8,
   "id": "893ae74d",
   "metadata": {},
   "outputs": [],
   "source": [
    "import pandas as pd\n",
    "from scipy.stats import beta, expon\n",
    "\n",
    "class BAGenerator(tapas.generators.Generator):\n",
    "    def fit(self, dataset):\n",
    "        self.description = dataset.description\n",
    "        all_n = [len(G.nodes) for G in dataset.data]\n",
    "        self._exp_params = expon.fit(all_n)\n",
    "        all_nedges = [len(G.edges) for G in dataset.data]\n",
    "        all_densities = [ne / (n*(n-1)/2) for n, ne in zip(all_n, all_nedges)]\n",
    "        self._beta_params = beta.fit(all_densities)\n",
    "\n",
    "    def generate(self, num_samples, random_state=None):\n",
    "        graph_sizes = expon.rvs(*self._exp_params, size=num_samples).astype(int)\n",
    "        densities = beta.rvs(*self._beta_params, size=num_samples)\n",
    "        m_param = [min(n-1, max(1, int(np.round(d*(n-1)*2)))) for n, d in zip(graph_sizes, densities)]\n",
    "        graphs = [nx.barabasi_albert_graph(n, m) for n, m in zip(graph_sizes, m_param)]\n",
    "        return tapas.datasets.TUDataset(pd.Series(graphs), self.description)\n",
    "\n",
    "    @property\n",
    "    def label(self):\n",
    "        return \"Barabasi-Albert Generator\""
   ]
  },
  {
   "cell_type": "code",
   "execution_count": 9,
   "id": "12479346",
   "metadata": {},
   "outputs": [],
   "source": [
    "generator = BAGenerator()"
   ]
  },
  {
   "cell_type": "code",
   "execution_count": 10,
   "id": "d9127c49",
   "metadata": {},
   "outputs": [
    {
     "name": "stderr",
     "output_type": "stream",
     "text": [
      "/usr/local/anaconda3/envs/tapas/lib/python3.10/site-packages/scipy/stats/_continuous_distns.py:684: RuntimeWarning: invalid value encountered in sqrt\n",
      "  sk = 2*(b-a)*np.sqrt(a + b + 1) / (a + b + 2) / np.sqrt(a*b)\n",
      "/usr/local/anaconda3/envs/tapas/lib/python3.10/site-packages/scipy/optimize/_minpack_py.py:175: RuntimeWarning: The iteration is not making good progress, as measured by the \n",
      "  improvement from the last ten iterations.\n",
      "  warnings.warn(msg, RuntimeWarning)\n"
     ]
    }
   ],
   "source": [
    "generator.fit(data)"
   ]
  },
  {
   "cell_type": "markdown",
   "id": "9c617f33",
   "metadata": {},
   "source": [
    "We select arbitrary target(s) in the dataset."
   ]
  },
  {
   "cell_type": "code",
   "execution_count": 11,
   "id": "ff777c14",
   "metadata": {},
   "outputs": [],
   "source": [
    "target_indices = [0]\n",
    "\n",
    "target_records = data.get_records(target_indices)\n",
    "data.drop_records(target_indices, in_place=True)"
   ]
  },
  {
   "cell_type": "markdown",
   "id": "194edcc0",
   "metadata": {},
   "source": [
    "We choose the auxiliary dataset setup (the attacker has access to a large number of real records disjoint from the real dataset)."
   ]
  },
  {
   "cell_type": "code",
   "execution_count": 12,
   "id": "0c361dca",
   "metadata": {},
   "outputs": [],
   "source": [
    "size_private_dataset = 100\n",
    "size_synthetic_dataset = 100\n",
    "train_test_split = 0.5"
   ]
  },
  {
   "cell_type": "code",
   "execution_count": 13,
   "id": "986276f7",
   "metadata": {},
   "outputs": [],
   "source": [
    "import tqdm"
   ]
  },
  {
   "cell_type": "code",
   "execution_count": 14,
   "id": "7666728c",
   "metadata": {},
   "outputs": [],
   "source": [
    "threat_model = tapas.threat_models.TargetedMIA(\n",
    "    attacker_knowledge_data = tapas.threat_models.AuxiliaryDataKnowledge(\n",
    "        data, auxiliary_split=train_test_split, num_training_records=size_private_dataset,\n",
    "    ),\n",
    "    target_record = target_records,\n",
    "    attacker_knowledge_generator=tapas.threat_models.BlackBoxKnowledge(\n",
    "        generator, num_synthetic_records=size_synthetic_dataset,\n",
    "    ),\n",
    "    generate_pairs=False,\n",
    "    replace_target=True,\n",
    ")"
   ]
  },
  {
   "cell_type": "markdown",
   "id": "5ef15264",
   "metadata": {},
   "source": [
    "## Attacks\n",
    "\n",
    "We first define a few items that will be useful for attacking graphs."
   ]
  },
  {
   "cell_type": "code",
   "execution_count": 15,
   "id": "5706dcfa",
   "metadata": {},
   "outputs": [],
   "source": [
    "class KernelFeature(tapas.attacks.SetFeature):\n",
    "    \"\"\"Extract some features from a graph, using a specific kernel.\"\"\"\n",
    "    \n",
    "    def __init__(self, kernel):\n",
    "        self.kernel = kernel\n",
    "    \n",
    "    def fit(self, tudataset):\n",
    "        \"\"\"Fit the kernel used by this feature using a dataset.\"\"\"\n",
    "        self.kernel.fit(tudataset)\n",
    "    \n",
    "    def extract(self, datasets):\n",
    "        return np.stack([\n",
    "            self.kernel.transform(d).mean(axis=0)\n",
    "            for d in datasets\n",
    "        ])"
   ]
  },
  {
   "cell_type": "code",
   "execution_count": 16,
   "id": "cc3e5acf",
   "metadata": {},
   "outputs": [],
   "source": [
    "class KernelBasedDistance(tapas.attacks.DistanceMetric):\n",
    "    \"\"\"L2 distance between the kernels of two graphs.\"\"\"\n",
    "    \n",
    "    # Using L2 is identical to RBF, since only the *order* matters.\n",
    "\n",
    "    def __init__(self, kernel):\n",
    "        self.kernel = kernel\n",
    "        self._label = 'KernelBasedDistance'\n",
    "\n",
    "    def fit(self, tudataset):\n",
    "        \"\"\"Fit the kernel used by this feature using a dataset.\"\"\"\n",
    "        self.kernel.fit(tudataset)\n",
    "\n",
    "    def __call__(self, x, y):\n",
    "        # Compute the distance matrix between two TUDatasets.\n",
    "        ft_x = self.kernel.transform(x)\n",
    "        ft_y = self.kernel.transform(y)\n",
    "        dists = np.zeros((len(x), len(y)))\n",
    "        for i, x1 in enumerate(ft_x):\n",
    "            for j, x2 in enumerate(ft_y):\n",
    "                dists[i,j] = np.linalg.norm(x1 - x2)\n",
    "        return dists"
   ]
  },
  {
   "cell_type": "markdown",
   "id": "ec301885",
   "metadata": {},
   "source": [
    "#### Trained kernel\n",
    "\n",
    "We use a fraction of the auxiliary dataset exclusively to fit the kernel. It is then discarded."
   ]
  },
  {
   "cell_type": "code",
   "execution_count": 17,
   "id": "fa95beef",
   "metadata": {},
   "outputs": [],
   "source": [
    "# A bit wordy, but we can extract the auxiliary data of the attacker as:\n",
    "auxiliary_data = threat_model.atk_know_data.attacker_knowledge.aux_data\n",
    "\n",
    "# We select a number of these graphs (200, for fun) which are dropped from the dataset.\n",
    "# These records will be used exclusively to train the kernel.\n",
    "kernel_training_data = auxiliary_data.create_subsets(n=1, sample_size = 200, drop_records=True)[0]"
   ]
  },
  {
   "cell_type": "code",
   "execution_count": 18,
   "id": "9f92b0a1",
   "metadata": {},
   "outputs": [],
   "source": [
    "kernel.fit(kernel_training_data);"
   ]
  },
  {
   "cell_type": "markdown",
   "id": "6c81b363",
   "metadata": {},
   "source": [
    "### Distance-based attack"
   ]
  },
  {
   "cell_type": "code",
   "execution_count": 19,
   "id": "3154446a",
   "metadata": {},
   "outputs": [],
   "source": [
    "dist = KernelBasedDistance(kernel)"
   ]
  },
  {
   "cell_type": "code",
   "execution_count": 20,
   "id": "4a18bd8d",
   "metadata": {},
   "outputs": [],
   "source": [
    "attack = tapas.attacks.ClosestDistanceMIA(distance = dist, criterion = \"accuracy\")"
   ]
  },
  {
   "cell_type": "code",
   "execution_count": 21,
   "id": "42abe323",
   "metadata": {},
   "outputs": [
    {
     "name": "stderr",
     "output_type": "stream",
     "text": [
      "/usr/local/anaconda3/envs/tapas/lib/python3.10/site-packages/scipy/stats/_continuous_distns.py:684: RuntimeWarning: invalid value encountered in sqrt\n",
      "  sk = 2*(b-a)*np.sqrt(a + b + 1) / (a + b + 2) / np.sqrt(a*b)\n",
      "/usr/local/anaconda3/envs/tapas/lib/python3.10/site-packages/scipy/optimize/_minpack_py.py:175: RuntimeWarning: The iteration is not making good progress, as measured by the \n",
      "  improvement from the last ten iterations.\n",
      "  warnings.warn(msg, RuntimeWarning)\n"
     ]
    }
   ],
   "source": [
    "# Training selects a threshold for the attack.\n",
    "attack.train(threat_model, num_samples=100)"
   ]
  },
  {
   "cell_type": "code",
   "execution_count": 29,
   "id": "f17d8403",
   "metadata": {},
   "outputs": [],
   "source": [
    "summary = threat_model.test(attack, num_samples=1000)"
   ]
  },
  {
   "cell_type": "code",
   "execution_count": 30,
   "id": "7430e991",
   "metadata": {},
   "outputs": [
    {
     "data": {
      "text/html": [
       "<div>\n",
       "<style scoped>\n",
       "    .dataframe tbody tr th:only-of-type {\n",
       "        vertical-align: middle;\n",
       "    }\n",
       "\n",
       "    .dataframe tbody tr th {\n",
       "        vertical-align: top;\n",
       "    }\n",
       "\n",
       "    .dataframe thead th {\n",
       "        text-align: right;\n",
       "    }\n",
       "</style>\n",
       "<table border=\"1\" class=\"dataframe\">\n",
       "  <thead>\n",
       "    <tr style=\"text-align: right;\">\n",
       "      <th></th>\n",
       "      <th>dataset</th>\n",
       "      <th>target_id</th>\n",
       "      <th>generator</th>\n",
       "      <th>attack</th>\n",
       "      <th>accuracy</th>\n",
       "      <th>true_positive_rate</th>\n",
       "      <th>false_positive_rate</th>\n",
       "      <th>mia_advantage</th>\n",
       "      <th>privacy_gain</th>\n",
       "      <th>auc</th>\n",
       "      <th>effective_epsilon</th>\n",
       "    </tr>\n",
       "  </thead>\n",
       "  <tbody>\n",
       "    <tr>\n",
       "      <th>0</th>\n",
       "      <td>deezer_ego_nets (AUX)</td>\n",
       "      <td>0</td>\n",
       "      <td>Barabasi-Albert Generator</td>\n",
       "      <td>ClosestDistance(KernelBasedDistance, accuracy)</td>\n",
       "      <td>0.667</td>\n",
       "      <td>0.701863</td>\n",
       "      <td>0.365571</td>\n",
       "      <td>0.336293</td>\n",
       "      <td>0.663707</td>\n",
       "      <td>0.723014</td>\n",
       "      <td>inf</td>\n",
       "    </tr>\n",
       "  </tbody>\n",
       "</table>\n",
       "</div>"
      ],
      "text/plain": [
       "                 dataset target_id                  generator  \\\n",
       "0  deezer_ego_nets (AUX)         0  Barabasi-Albert Generator   \n",
       "\n",
       "                                           attack  accuracy  \\\n",
       "0  ClosestDistance(KernelBasedDistance, accuracy)     0.667   \n",
       "\n",
       "   true_positive_rate  false_positive_rate  mia_advantage  privacy_gain  \\\n",
       "0            0.701863             0.365571       0.336293      0.663707   \n",
       "\n",
       "        auc  effective_epsilon  \n",
       "0  0.723014                inf  "
      ]
     },
     "execution_count": 30,
     "metadata": {},
     "output_type": "execute_result"
    }
   ],
   "source": [
    "summary.get_metrics()"
   ]
  },
  {
   "cell_type": "code",
   "execution_count": 31,
   "id": "5e28ba38",
   "metadata": {},
   "outputs": [
    {
     "data": {
      "image/png": "[encoded data removed]",
      "text/plain": [
       "<Figure size 500x500 with 1 Axes>"
      ]
     },
     "metadata": {},
     "output_type": "display_data"
    }
   ],
   "source": [
    "from sklearn.metrics import roc_curve\n",
    "plt.figure(figsize=(5,5))\n",
    "tpr, fpr, _ = roc_curve(summary.labels, summary.scores)\n",
    "plt.plot([0,1], [0,1], 'k--', alpha=.4)\n",
    "plt.plot(tpr, fpr)\n",
    "plt.xlim([0,1])\n",
    "plt.ylim([0,1]);"
   ]
  },
  {
   "cell_type": "markdown",
   "id": "b88cfdb9",
   "metadata": {},
   "source": [
    "This attack achieves reasonable accuracy, surprisingly."
   ]
  },
  {
   "cell_type": "markdown",
   "id": "8b439caf",
   "metadata": {},
   "source": [
    "### Shadow-modelling attack"
   ]
  },
  {
   "cell_type": "code",
   "execution_count": 32,
   "id": "8f6001d8",
   "metadata": {},
   "outputs": [],
   "source": [
    "from sklearn.linear_model import LogisticRegression\n",
    "from sklearn.ensemble import RandomForestClassifier"
   ]
  },
  {
   "cell_type": "code",
   "execution_count": 33,
   "id": "a99d63b2",
   "metadata": {},
   "outputs": [],
   "source": [
    "attack = tapas.attacks.ShadowModellingAttack(\n",
    "    tapas.attacks.FeatureBasedSetClassifier(\n",
    "        features = KernelFeature(kernel),\n",
    "        classifier = RandomForestClassifier(),\n",
    "    )\n",
    ")"
   ]
  },
  {
   "cell_type": "markdown",
   "id": "8e163729",
   "metadata": {},
   "source": [
    "We first train with a small number of records. It works better than random, but not great."
   ]
  },
  {
   "cell_type": "code",
   "execution_count": 34,
   "id": "b992b981",
   "metadata": {},
   "outputs": [],
   "source": [
    "# This involves feature extraction and training a model.\n",
    "attack.train(threat_model, num_samples=100)"
   ]
  },
  {
   "cell_type": "code",
   "execution_count": 35,
   "id": "611f2257",
   "metadata": {},
   "outputs": [],
   "source": [
    "summary = threat_model.test(attack, num_samples=1000)"
   ]
  },
  {
   "cell_type": "code",
   "execution_count": 36,
   "id": "523f4764",
   "metadata": {},
   "outputs": [
    {
     "data": {
      "text/html": [
       "<div>\n",
       "<style scoped>\n",
       "    .dataframe tbody tr th:only-of-type {\n",
       "        vertical-align: middle;\n",
       "    }\n",
       "\n",
       "    .dataframe tbody tr th {\n",
       "        vertical-align: top;\n",
       "    }\n",
       "\n",
       "    .dataframe thead th {\n",
       "        text-align: right;\n",
       "    }\n",
       "</style>\n",
       "<table border=\"1\" class=\"dataframe\">\n",
       "  <thead>\n",
       "    <tr style=\"text-align: right;\">\n",
       "      <th></th>\n",
       "      <th>dataset</th>\n",
       "      <th>target_id</th>\n",
       "      <th>generator</th>\n",
       "      <th>attack</th>\n",
       "      <th>accuracy</th>\n",
       "      <th>true_positive_rate</th>\n",
       "      <th>false_positive_rate</th>\n",
       "      <th>mia_advantage</th>\n",
       "      <th>privacy_gain</th>\n",
       "      <th>auc</th>\n",
       "      <th>effective_epsilon</th>\n",
       "    </tr>\n",
       "  </thead>\n",
       "  <tbody>\n",
       "    <tr>\n",
       "      <th>0</th>\n",
       "      <td>deezer_ego_nets (AUX)</td>\n",
       "      <td>0</td>\n",
       "      <td>Barabasi-Albert Generator</td>\n",
       "      <td>ShadowModelling(Classifier(Unknown SetFeature,...</td>\n",
       "      <td>0.68</td>\n",
       "      <td>0.581781</td>\n",
       "      <td>0.22824</td>\n",
       "      <td>0.353541</td>\n",
       "      <td>0.646459</td>\n",
       "      <td>0.730799</td>\n",
       "      <td>inf</td>\n",
       "    </tr>\n",
       "  </tbody>\n",
       "</table>\n",
       "</div>"
      ],
      "text/plain": [
       "                 dataset target_id                  generator  \\\n",
       "0  deezer_ego_nets (AUX)         0  Barabasi-Albert Generator   \n",
       "\n",
       "                                              attack  accuracy  \\\n",
       "0  ShadowModelling(Classifier(Unknown SetFeature,...      0.68   \n",
       "\n",
       "   true_positive_rate  false_positive_rate  mia_advantage  privacy_gain  \\\n",
       "0            0.581781              0.22824       0.353541      0.646459   \n",
       "\n",
       "        auc  effective_epsilon  \n",
       "0  0.730799                inf  "
      ]
     },
     "execution_count": 36,
     "metadata": {},
     "output_type": "execute_result"
    }
   ],
   "source": [
    "summary.get_metrics()"
   ]
  },
  {
   "cell_type": "code",
   "execution_count": 37,
   "id": "73086eec",
   "metadata": {},
   "outputs": [
    {
     "data": {
      "image/png": "[encoded data removed]",
      "text/plain": [
       "<Figure size 500x500 with 1 Axes>"
      ]
     },
     "metadata": {},
     "output_type": "display_data"
    }
   ],
   "source": [
    "plt.figure(figsize=(5,5))\n",
    "tpr, fpr, _ = roc_curve(summary.labels, summary.scores)\n",
    "plt.plot([0,1], [0,1], 'k--', alpha=.4)\n",
    "plt.plot(tpr, fpr)\n",
    "plt.xlim([0,1])\n",
    "plt.ylim([0,1]);"
   ]
  },
  {
   "cell_type": "markdown",
   "id": "9b96a63a",
   "metadata": {},
   "source": [
    "We now train with a larger number of samples. Now the shadow-modelling attack works very well!"
   ]
  },
  {
   "cell_type": "code",
   "execution_count": 38,
   "id": "e163d6ca",
   "metadata": {},
   "outputs": [
    {
     "name": "stderr",
     "output_type": "stream",
     "text": [
      "/usr/local/anaconda3/envs/tapas/lib/python3.10/site-packages/scipy/stats/_continuous_distns.py:684: RuntimeWarning: invalid value encountered in sqrt\n",
      "  sk = 2*(b-a)*np.sqrt(a + b + 1) / (a + b + 2) / np.sqrt(a*b)\n",
      "/usr/local/anaconda3/envs/tapas/lib/python3.10/site-packages/scipy/optimize/_minpack_py.py:175: RuntimeWarning: The iteration is not making good progress, as measured by the \n",
      "  improvement from the last ten iterations.\n",
      "  warnings.warn(msg, RuntimeWarning)\n"
     ]
    }
   ],
   "source": [
    "attack.train(threat_model, num_samples=1000)"
   ]
  },
  {
   "cell_type": "code",
   "execution_count": 39,
   "id": "8f395840",
   "metadata": {},
   "outputs": [],
   "source": [
    "summary = threat_model.test(attack, num_samples=1000)"
   ]
  },
  {
   "cell_type": "code",
   "execution_count": 40,
   "id": "4bf00417",
   "metadata": {},
   "outputs": [
    {
     "name": "stderr",
     "output_type": "stream",
     "text": [
      "/Users/fhoussiau/workspace/privacy-sdg-toolbox/tapas/report/attack_summary.py:257: RuntimeWarning: invalid value encountered in divide\n",
      "  return np.log(max(np.max(tp/fp), np.max((1-fp)/(1-tp))))\n"
     ]
    },
    {
     "data": {
      "text/html": [
       "<div>\n",
       "<style scoped>\n",
       "    .dataframe tbody tr th:only-of-type {\n",
       "        vertical-align: middle;\n",
       "    }\n",
       "\n",
       "    .dataframe tbody tr th {\n",
       "        vertical-align: top;\n",
       "    }\n",
       "\n",
       "    .dataframe thead th {\n",
       "        text-align: right;\n",
       "    }\n",
       "</style>\n",
       "<table border=\"1\" class=\"dataframe\">\n",
       "  <thead>\n",
       "    <tr style=\"text-align: right;\">\n",
       "      <th></th>\n",
       "      <th>dataset</th>\n",
       "      <th>target_id</th>\n",
       "      <th>generator</th>\n",
       "      <th>attack</th>\n",
       "      <th>accuracy</th>\n",
       "      <th>true_positive_rate</th>\n",
       "      <th>false_positive_rate</th>\n",
       "      <th>mia_advantage</th>\n",
       "      <th>privacy_gain</th>\n",
       "      <th>auc</th>\n",
       "      <th>effective_epsilon</th>\n",
       "    </tr>\n",
       "  </thead>\n",
       "  <tbody>\n",
       "    <tr>\n",
       "      <th>0</th>\n",
       "      <td>deezer_ego_nets (AUX)</td>\n",
       "      <td>0</td>\n",
       "      <td>Barabasi-Albert Generator</td>\n",
       "      <td>ShadowModelling(Classifier(Unknown SetFeature,...</td>\n",
       "      <td>0.678</td>\n",
       "      <td>0.687371</td>\n",
       "      <td>0.330754</td>\n",
       "      <td>0.356616</td>\n",
       "      <td>0.643384</td>\n",
       "      <td>0.759826</td>\n",
       "      <td>3.24608</td>\n",
       "    </tr>\n",
       "  </tbody>\n",
       "</table>\n",
       "</div>"
      ],
      "text/plain": [
       "                 dataset target_id                  generator  \\\n",
       "0  deezer_ego_nets (AUX)         0  Barabasi-Albert Generator   \n",
       "\n",
       "                                              attack  accuracy  \\\n",
       "0  ShadowModelling(Classifier(Unknown SetFeature,...     0.678   \n",
       "\n",
       "   true_positive_rate  false_positive_rate  mia_advantage  privacy_gain  \\\n",
       "0            0.687371             0.330754       0.356616      0.643384   \n",
       "\n",
       "        auc  effective_epsilon  \n",
       "0  0.759826            3.24608  "
      ]
     },
     "execution_count": 40,
     "metadata": {},
     "output_type": "execute_result"
    }
   ],
   "source": [
    "summary.get_metrics()"
   ]
  },
  {
   "cell_type": "code",
   "execution_count": 41,
   "id": "18cf9e80",
   "metadata": {},
   "outputs": [
    {
     "data": {
      "image/png": "[encoded data removed]",
      "text/plain": [
       "<Figure size 500x500 with 1 Axes>"
      ]
     },
     "metadata": {},
     "output_type": "display_data"
    }
   ],
   "source": [
    "plt.figure(figsize=(5,5))\n",
    "tpr, fpr, _ = roc_curve(summary.labels, summary.scores)\n",
    "plt.plot([0,1], [0,1], 'k--', alpha=.4)\n",
    "plt.plot(tpr, fpr)\n",
    "plt.xlim([0,1])\n",
    "plt.ylim([0,1]);"
   ]
  },
  {
   "cell_type": "markdown",
   "id": "8357d0be",
   "metadata": {},
   "source": [
    "### Composed graph classifier\n",
    "\n",
    "We now use our custom composed graph classifier (using the same parameters otherwise). Note that this is very slow, since the kernel needs to be recomputed for every dataset.\n",
    "\n",
    "Surprisingly, this works much better (although it is noticeably slower). Also the results seem to be sensitive to the randomness in the kernel sample."
   ]
  },
  {
   "cell_type": "code",
   "execution_count": 42,
   "id": "490cb942",
   "metadata": {},
   "outputs": [],
   "source": [
    "attack = tapas.attacks.ShadowModellingAttack(\n",
    "    tapas.attacks.ComposedGraphClassifier(\n",
    "        classifier = RandomForestClassifier(),\n",
    "        # Remove all memoization (this expects a grakel.Kernel).\n",
    "        kernel = kernel.kernel\n",
    "    ),\n",
    "    label = 'ComposedAttack'\n",
    ")"
   ]
  },
  {
   "cell_type": "code",
   "execution_count": 43,
   "id": "1e8b0c0d",
   "metadata": {},
   "outputs": [],
   "source": [
    "attack.train(threat_model, num_samples=100)"
   ]
  },
  {
   "cell_type": "code",
   "execution_count": 44,
   "id": "6bbfd0c8",
   "metadata": {},
   "outputs": [],
   "source": [
    "summary = threat_model.test(attack, num_samples=1000)"
   ]
  },
  {
   "cell_type": "code",
   "execution_count": 45,
   "id": "17455015",
   "metadata": {
    "scrolled": true
   },
   "outputs": [
    {
     "name": "stderr",
     "output_type": "stream",
     "text": [
      "/Users/fhoussiau/workspace/privacy-sdg-toolbox/tapas/report/attack_summary.py:257: RuntimeWarning: invalid value encountered in divide\n",
      "  return np.log(max(np.max(tp/fp), np.max((1-fp)/(1-tp))))\n"
     ]
    },
    {
     "data": {
      "text/html": [
       "<div>\n",
       "<style scoped>\n",
       "    .dataframe tbody tr th:only-of-type {\n",
       "        vertical-align: middle;\n",
       "    }\n",
       "\n",
       "    .dataframe tbody tr th {\n",
       "        vertical-align: top;\n",
       "    }\n",
       "\n",
       "    .dataframe thead th {\n",
       "        text-align: right;\n",
       "    }\n",
       "</style>\n",
       "<table border=\"1\" class=\"dataframe\">\n",
       "  <thead>\n",
       "    <tr style=\"text-align: right;\">\n",
       "      <th></th>\n",
       "      <th>dataset</th>\n",
       "      <th>target_id</th>\n",
       "      <th>generator</th>\n",
       "      <th>attack</th>\n",
       "      <th>accuracy</th>\n",
       "      <th>true_positive_rate</th>\n",
       "      <th>false_positive_rate</th>\n",
       "      <th>mia_advantage</th>\n",
       "      <th>privacy_gain</th>\n",
       "      <th>auc</th>\n",
       "      <th>effective_epsilon</th>\n",
       "    </tr>\n",
       "  </thead>\n",
       "  <tbody>\n",
       "    <tr>\n",
       "      <th>0</th>\n",
       "      <td>deezer_ego_nets (AUX)</td>\n",
       "      <td>0</td>\n",
       "      <td>Barabasi-Albert Generator</td>\n",
       "      <td>ComposedAttack</td>\n",
       "      <td>0.586</td>\n",
       "      <td>0.575569</td>\n",
       "      <td>0.404255</td>\n",
       "      <td>0.171314</td>\n",
       "      <td>0.828686</td>\n",
       "      <td>0.641954</td>\n",
       "      <td>1.716685</td>\n",
       "    </tr>\n",
       "  </tbody>\n",
       "</table>\n",
       "</div>"
      ],
      "text/plain": [
       "                 dataset target_id                  generator          attack  \\\n",
       "0  deezer_ego_nets (AUX)         0  Barabasi-Albert Generator  ComposedAttack   \n",
       "\n",
       "   accuracy  true_positive_rate  false_positive_rate  mia_advantage  \\\n",
       "0     0.586            0.575569             0.404255       0.171314   \n",
       "\n",
       "   privacy_gain       auc  effective_epsilon  \n",
       "0      0.828686  0.641954           1.716685  "
      ]
     },
     "execution_count": 45,
     "metadata": {},
     "output_type": "execute_result"
    }
   ],
   "source": [
    "summary.get_metrics()"
   ]
  },
  {
   "cell_type": "code",
   "execution_count": 46,
   "id": "a172a6a5",
   "metadata": {},
   "outputs": [
    {
     "data": {
      "image/png": "[encoded data removed]",
      "text/plain": [
       "<Figure size 500x500 with 1 Axes>"
      ]
     },
     "metadata": {},
     "output_type": "display_data"
    }
   ],
   "source": [
    "plt.figure(figsize=(5,5))\n",
    "tpr, fpr, _ = roc_curve(summary.labels, summary.scores)\n",
    "plt.plot([0,1], [0,1], 'k--', alpha=.4)\n",
    "plt.plot(tpr, fpr)\n",
    "plt.xlim([0,1])\n",
    "plt.ylim([0,1]);"
   ]
  },
  {
   "cell_type": "markdown",
   "id": "852b5124",
   "metadata": {},
   "source": [
    "this works surprisingly well (I tested the training accuracy/AUC, it's basically 1)! We now try with more samples."
   ]
  },
  {
   "cell_type": "code",
   "execution_count": 47,
   "id": "06dcedce",
   "metadata": {},
   "outputs": [],
   "source": [
    "attack.train(threat_model, num_samples=1000)"
   ]
  },
  {
   "cell_type": "code",
   "execution_count": 48,
   "id": "98116339",
   "metadata": {},
   "outputs": [],
   "source": [
    "summary = threat_model.test(attack, num_samples=1000)"
   ]
  },
  {
   "cell_type": "code",
   "execution_count": 49,
   "id": "504fbd78",
   "metadata": {
    "scrolled": true
   },
   "outputs": [
    {
     "data": {
      "text/html": [
       "<div>\n",
       "<style scoped>\n",
       "    .dataframe tbody tr th:only-of-type {\n",
       "        vertical-align: middle;\n",
       "    }\n",
       "\n",
       "    .dataframe tbody tr th {\n",
       "        vertical-align: top;\n",
       "    }\n",
       "\n",
       "    .dataframe thead th {\n",
       "        text-align: right;\n",
       "    }\n",
       "</style>\n",
       "<table border=\"1\" class=\"dataframe\">\n",
       "  <thead>\n",
       "    <tr style=\"text-align: right;\">\n",
       "      <th></th>\n",
       "      <th>dataset</th>\n",
       "      <th>target_id</th>\n",
       "      <th>generator</th>\n",
       "      <th>attack</th>\n",
       "      <th>accuracy</th>\n",
       "      <th>true_positive_rate</th>\n",
       "      <th>false_positive_rate</th>\n",
       "      <th>mia_advantage</th>\n",
       "      <th>privacy_gain</th>\n",
       "      <th>auc</th>\n",
       "      <th>effective_epsilon</th>\n",
       "    </tr>\n",
       "  </thead>\n",
       "  <tbody>\n",
       "    <tr>\n",
       "      <th>0</th>\n",
       "      <td>deezer_ego_nets (AUX)</td>\n",
       "      <td>0</td>\n",
       "      <td>Barabasi-Albert Generator</td>\n",
       "      <td>ComposedAttack</td>\n",
       "      <td>0.624</td>\n",
       "      <td>0.550725</td>\n",
       "      <td>0.307544</td>\n",
       "      <td>0.243181</td>\n",
       "      <td>0.756819</td>\n",
       "      <td>0.657072</td>\n",
       "      <td>inf</td>\n",
       "    </tr>\n",
       "  </tbody>\n",
       "</table>\n",
       "</div>"
      ],
      "text/plain": [
       "                 dataset target_id                  generator          attack  \\\n",
       "0  deezer_ego_nets (AUX)         0  Barabasi-Albert Generator  ComposedAttack   \n",
       "\n",
       "   accuracy  true_positive_rate  false_positive_rate  mia_advantage  \\\n",
       "0     0.624            0.550725             0.307544       0.243181   \n",
       "\n",
       "   privacy_gain       auc  effective_epsilon  \n",
       "0      0.756819  0.657072                inf  "
      ]
     },
     "execution_count": 49,
     "metadata": {},
     "output_type": "execute_result"
    }
   ],
   "source": [
    "summary.get_metrics()"
   ]
  },
  {
   "cell_type": "code",
   "execution_count": 50,
   "id": "b5b1fd25",
   "metadata": {},
   "outputs": [
    {
     "data": {
      "image/png": "[encoded data removed]",
      "text/plain": [
       "<Figure size 500x500 with 1 Axes>"
      ]
     },
     "metadata": {},
     "output_type": "display_data"
    }
   ],
   "source": [
    "plt.figure(figsize=(5,5))\n",
    "tpr, fpr, _ = roc_curve(summary.labels, summary.scores)\n",
    "plt.plot([0,1], [0,1], 'k--', alpha=.4)\n",
    "plt.plot(tpr, fpr)\n",
    "plt.xlim([0,1])\n",
    "plt.ylim([0,1]);"
   ]
  },
  {
   "cell_type": "markdown",
   "id": "1e7b7032",
   "metadata": {},
   "source": [
    "Any improvement with more samples is very marginal."
   ]
  }
 ],
 "metadata": {
  "kernelspec": {
   "display_name": "Python 3 (ipykernel)",
   "language": "python",
   "name": "python3"
  },
  "language_info": {
   "codemirror_mode": {
    "name": "ipython",
    "version": 3
   },
   "file_extension": ".py",
   "mimetype": "text/x-python",
   "name": "python",
   "nbconvert_exporter": "python",
   "pygments_lexer": "ipython3",
   "version": "3.10.9"
  }
 },
 "nbformat": 4,
 "nbformat_minor": 5
}
