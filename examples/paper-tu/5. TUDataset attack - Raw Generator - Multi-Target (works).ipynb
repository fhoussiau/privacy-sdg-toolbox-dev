{
 "cells": [
  {
   "cell_type": "markdown",
   "id": "15df033e",
   "metadata": {},
   "source": [
    "In this notebook, we evaluate the possibility of using graph kernel attacks against TUDatasets. We focus on datasets with privacy applications.\n",
    "\n",
    "We modify this notebook by comparing with another attack."
   ]
  },
  {
   "cell_type": "code",
   "execution_count": 1,
   "id": "a4183aac",
   "metadata": {},
   "outputs": [],
   "source": [
    "import numpy as np\n",
    "import matplotlib.pyplot as plt\n",
    "%matplotlib inline\n",
    "\n",
    "import tapas.datasets\n",
    "import tapas.generators\n",
    "import tapas.threat_models\n",
    "import tapas.attacks"
   ]
  },
  {
   "cell_type": "code",
   "execution_count": 2,
   "id": "bc641e1d",
   "metadata": {},
   "outputs": [],
   "source": [
    "np.random.seed(13121)"
   ]
  },
  {
   "cell_type": "markdown",
   "id": "c37b1d1b",
   "metadata": {},
   "source": [
    "## Real-world private datasets\n",
    "\n",
    "The COLLAB dataset contains collaboration networks of academics. They are ego networks for these academics."
   ]
  },
  {
   "cell_type": "code",
   "execution_count": 3,
   "id": "a782108f",
   "metadata": {},
   "outputs": [],
   "source": [
    "# If you have not yet downloaded the dataset:\n",
    "# data = tapas.datasets.TUDataset.download_and_read(\"COLLAB\")\n",
    "\n",
    "# Otherwise:\n",
    "# data = tapas.datasets.TUDataset.read(\"COLLAB\", \"COLLAB\")"
   ]
  },
  {
   "cell_type": "code",
   "execution_count": 4,
   "id": "c51f8d93",
   "metadata": {},
   "outputs": [
    {
     "name": "stdout",
     "output_type": "stream",
     "text": [
      "Loading TU graph dataset: deezer_ego_nets\n"
     ]
    }
   ],
   "source": [
    "data = tapas.datasets.TUDataset.read(\"deezer_ego_nets\", \"deezer_ego_nets\")"
   ]
  },
  {
   "cell_type": "code",
   "execution_count": 5,
   "id": "2b396338",
   "metadata": {},
   "outputs": [
    {
     "data": {
      "image/png": "[encoded data removed]",
      "text/plain": [
       "<Figure size 640x480 with 1 Axes>"
      ]
     },
     "metadata": {},
     "output_type": "display_data"
    }
   ],
   "source": [
    "plt.hist([len(g.nodes()) for g in data.data], 50)\n",
    "plt.yscale('log')"
   ]
  },
  {
   "cell_type": "markdown",
   "id": "3b6f0e73",
   "metadata": {},
   "source": [
    "## Memoized kernels\n",
    "\n",
    "In our attacks, the main blocker is that kernels are computed many times over the same graph, leading to massive performance overheads. Memoization is the key here.\n",
    "\n",
    "Importantly, we do not check whether graphs are identical, but merely whether they are stored in the same location in memory.\n",
    "\n",
    "We also use this class to provide a clean interface between grakel kernels and networkx data."
   ]
  },
  {
   "cell_type": "code",
   "execution_count": 6,
   "id": "b762f99c",
   "metadata": {},
   "outputs": [],
   "source": [
    "import networkx as nx\n",
    "from grakel.utils import graph_from_networkx\n",
    "\n",
    "def _grak(graphs):\n",
    "    # Add a label to the graphs, for compatibility with grakel.\n",
    "    for G in graphs:\n",
    "        # Relabel the graph nodes (useful for the kernel).\n",
    "        nx.set_node_attributes(G, dict(zip(G.nodes, range(len(G.nodes)))), \"label\")\n",
    "    return graph_from_networkx(graphs, node_labels_tag=\"label\")"
   ]
  },
  {
   "cell_type": "code",
   "execution_count": 7,
   "id": "a5e7b43c",
   "metadata": {},
   "outputs": [],
   "source": [
    "class Memoize:\n",
    "    def __init__(self, kernel):\n",
    "        self.kernel = kernel\n",
    "        self.memory = {}\n",
    "    \n",
    "    def fit(self, tudataset):\n",
    "        self.memory = {}  # Fitting the kernel resets the memory.\n",
    "        self.kernel.fit(_grak(tudataset.data))\n",
    "\n",
    "    def transform(self, tudataset):\n",
    "        # Use G for the key, and grak(G) for the feature transformation.\n",
    "        for G in tudataset.data:\n",
    "            if G not in self.memory:\n",
    "                self.memory[G] = self.kernel.transform(_grak([G]))[0]\n",
    "        return np.stack([self.memory[G] for G in tudataset.data])\n",
    "\n",
    "    def fit_transform(self, tudataset):        \n",
    "        self.fit(tudataset)\n",
    "        return self.transform(tudataset)"
   ]
  },
  {
   "cell_type": "markdown",
   "id": "e2a24f5e",
   "metadata": {},
   "source": [
    "We now instantiate a typical kernel."
   ]
  },
  {
   "cell_type": "code",
   "execution_count": 8,
   "id": "f524eac2",
   "metadata": {},
   "outputs": [],
   "source": [
    "from grakel import WeisfeilerLehman, VertexHistogram\n",
    "\n",
    "# TODO: find a better kernel -- vertex histogram is silly here, since there is very little (no?) overlap.\n",
    "# We address this by relabelling nodes to 1..num_nodes.\n",
    "kernel = Memoize(WeisfeilerLehman(n_iter=4, base_graph_kernel=VertexHistogram, normalize=True))"
   ]
  },
  {
   "cell_type": "markdown",
   "id": "91056b3c",
   "metadata": {},
   "source": [
    "## Threat modelling (typical TAPAS)"
   ]
  },
  {
   "cell_type": "markdown",
   "id": "ffdb9988",
   "metadata": {},
   "source": [
    "We attack the Raw generator, for simplicity. This should be trivially attackable!"
   ]
  },
  {
   "cell_type": "code",
   "execution_count": 9,
   "id": "25a8ab6e",
   "metadata": {},
   "outputs": [],
   "source": [
    "generator = tapas.generators.Raw()"
   ]
  },
  {
   "cell_type": "markdown",
   "id": "013ef0fc",
   "metadata": {},
   "source": [
    "We select arbitrary target(s) in the dataset."
   ]
  },
  {
   "cell_type": "code",
   "execution_count": 10,
   "id": "dc886fb2",
   "metadata": {},
   "outputs": [],
   "source": [
    "target_indices = [0]\n",
    "\n",
    "target_records = data.get_records(target_indices)\n",
    "data.drop_records(target_indices, in_place=True)"
   ]
  },
  {
   "cell_type": "markdown",
   "id": "ca8b5d2b",
   "metadata": {},
   "source": [
    "We choose the auxiliary dataset setup (the attacker has access to a large number of real records disjoint from the real dataset)."
   ]
  },
  {
   "cell_type": "code",
   "execution_count": 11,
   "id": "0dc0e09c",
   "metadata": {},
   "outputs": [],
   "source": [
    "size_private_dataset = 100\n",
    "size_synthetic_dataset = 100\n",
    "train_test_split = 0.5"
   ]
  },
  {
   "cell_type": "code",
   "execution_count": 12,
   "id": "83dae2b8",
   "metadata": {},
   "outputs": [],
   "source": [
    "threat_model = tapas.threat_models.TargetedMIA(\n",
    "    attacker_knowledge_data = tapas.threat_models.AuxiliaryDataKnowledge(\n",
    "        data, auxiliary_split=train_test_split, num_training_records=size_private_dataset,\n",
    "    ),\n",
    "    target_record = target_records,\n",
    "    attacker_knowledge_generator=tapas.threat_models.BlackBoxKnowledge(\n",
    "        generator, num_synthetic_records=size_synthetic_dataset,\n",
    "    ),\n",
    "    generate_pairs=False,\n",
    "    replace_target=True,\n",
    ")"
   ]
  },
  {
   "cell_type": "markdown",
   "id": "bffb2489",
   "metadata": {},
   "source": [
    "## Attacks\n",
    "\n",
    "We first define a few items that will be useful for attacking graphs."
   ]
  },
  {
   "cell_type": "code",
   "execution_count": 13,
   "id": "6801db7a",
   "metadata": {},
   "outputs": [],
   "source": [
    "class KernelFeature(tapas.attacks.SetFeature):\n",
    "    \"\"\"Extract some features from a graph, using a specific kernel.\"\"\"\n",
    "    \n",
    "    def __init__(self, kernel):\n",
    "        self.kernel = kernel\n",
    "    \n",
    "    def fit(self, tudataset):\n",
    "        \"\"\"Fit the kernel used by this feature using a dataset.\"\"\"\n",
    "        self.kernel.fit(tudataset)\n",
    "    \n",
    "    def extract(self, datasets):\n",
    "        return np.stack([\n",
    "            self.kernel.transform(d).mean(axis=0)\n",
    "            for d in datasets\n",
    "        ])"
   ]
  },
  {
   "cell_type": "code",
   "execution_count": 14,
   "id": "a4f8a4f6",
   "metadata": {},
   "outputs": [],
   "source": [
    "class KernelBasedDistance(tapas.attacks.DistanceMetric):\n",
    "    \"\"\"L2 distance between the kernels of two graphs.\"\"\"\n",
    "\n",
    "    def __init__(self, kernel):\n",
    "        self.kernel = kernel\n",
    "        self._label = 'KernelBasedDistance'\n",
    "\n",
    "    def fit(self, tudataset):\n",
    "        \"\"\"Fit the kernel used by this feature using a dataset.\"\"\"\n",
    "        self.kernel.fit(tudataset)\n",
    "\n",
    "    def __call__(self, x, y):\n",
    "        # Compute the distance matrix between two TUDatasets.\n",
    "        ft_x = self.kernel.transform(x)\n",
    "        ft_y = self.kernel.transform(y)\n",
    "        dists = np.zeros((len(x), len(y)))\n",
    "        for i, x1 in enumerate(ft_x):\n",
    "            for j, x2 in enumerate(ft_y):\n",
    "                dists[i,j] = np.linalg.norm(x1 - x2)\n",
    "        return dists"
   ]
  },
  {
   "cell_type": "markdown",
   "id": "b191623a",
   "metadata": {},
   "source": [
    "#### Trained kernel\n",
    "\n",
    "We use a fraction of the auxiliary dataset exclusively to fit the kernel. It is then discarded."
   ]
  },
  {
   "cell_type": "code",
   "execution_count": 15,
   "id": "35e4c401",
   "metadata": {},
   "outputs": [],
   "source": [
    "# A bit wordy, but we can extract the auxiliary data of the attacker as:\n",
    "auxiliary_data = threat_model.atk_know_data.attacker_knowledge.aux_data\n",
    "\n",
    "# We select a number of these graphs (200, for fun) which are dropped from the dataset.\n",
    "# These records will be used exclusively to train the kernel.\n",
    "kernel_training_data = auxiliary_data.create_subsets(n=1, sample_size = 200, drop_records=True)[0]"
   ]
  },
  {
   "cell_type": "code",
   "execution_count": 16,
   "id": "ebfb7478",
   "metadata": {},
   "outputs": [],
   "source": [
    "kernel.fit(kernel_training_data);"
   ]
  },
  {
   "cell_type": "markdown",
   "id": "2f204fee",
   "metadata": {},
   "source": [
    "Pre-compute graph kernels (for fast computations)!"
   ]
  },
  {
   "cell_type": "code",
   "execution_count": 17,
   "id": "1b43f323",
   "metadata": {},
   "outputs": [],
   "source": [
    "kernel.transform(data);"
   ]
  },
  {
   "cell_type": "markdown",
   "id": "5df3ab2b",
   "metadata": {},
   "source": [
    "### Distance-based attack"
   ]
  },
  {
   "cell_type": "code",
   "execution_count": 18,
   "id": "8a55f788",
   "metadata": {},
   "outputs": [],
   "source": [
    "dist = KernelBasedDistance(kernel)"
   ]
  },
  {
   "cell_type": "code",
   "execution_count": 19,
   "id": "3872c321",
   "metadata": {},
   "outputs": [],
   "source": [
    "attack = tapas.attacks.ClosestDistanceMIA(distance = dist, criterion = \"accuracy\")"
   ]
  },
  {
   "cell_type": "code",
   "execution_count": 20,
   "id": "da761aff",
   "metadata": {},
   "outputs": [],
   "source": [
    "# Training selects a threshold for the attack.\n",
    "attack.train(threat_model, num_samples=100)"
   ]
  },
  {
   "cell_type": "code",
   "execution_count": 21,
   "id": "9613254e",
   "metadata": {},
   "outputs": [],
   "source": [
    "summary = threat_model.test(attack, num_samples=100)"
   ]
  },
  {
   "cell_type": "code",
   "execution_count": 22,
   "id": "412799fb",
   "metadata": {},
   "outputs": [
    {
     "data": {
      "text/html": [
       "<div>\n",
       "<style scoped>\n",
       "    .dataframe tbody tr th:only-of-type {\n",
       "        vertical-align: middle;\n",
       "    }\n",
       "\n",
       "    .dataframe tbody tr th {\n",
       "        vertical-align: top;\n",
       "    }\n",
       "\n",
       "    .dataframe thead th {\n",
       "        text-align: right;\n",
       "    }\n",
       "</style>\n",
       "<table border=\"1\" class=\"dataframe\">\n",
       "  <thead>\n",
       "    <tr style=\"text-align: right;\">\n",
       "      <th></th>\n",
       "      <th>dataset</th>\n",
       "      <th>target_id</th>\n",
       "      <th>generator</th>\n",
       "      <th>attack</th>\n",
       "      <th>accuracy</th>\n",
       "      <th>true_positive_rate</th>\n",
       "      <th>false_positive_rate</th>\n",
       "      <th>mia_advantage</th>\n",
       "      <th>privacy_gain</th>\n",
       "      <th>auc</th>\n",
       "      <th>effective_epsilon</th>\n",
       "    </tr>\n",
       "  </thead>\n",
       "  <tbody>\n",
       "    <tr>\n",
       "      <th>0</th>\n",
       "      <td>deezer_ego_nets (AUX)</td>\n",
       "      <td>0</td>\n",
       "      <td>Raw</td>\n",
       "      <td>ClosestDistance(KernelBasedDistance, accuracy)</td>\n",
       "      <td>1.0</td>\n",
       "      <td>1.0</td>\n",
       "      <td>0.0</td>\n",
       "      <td>1.0</td>\n",
       "      <td>0.0</td>\n",
       "      <td>1.0</td>\n",
       "      <td>inf</td>\n",
       "    </tr>\n",
       "  </tbody>\n",
       "</table>\n",
       "</div>"
      ],
      "text/plain": [
       "                 dataset target_id generator  \\\n",
       "0  deezer_ego_nets (AUX)         0       Raw   \n",
       "\n",
       "                                           attack  accuracy  \\\n",
       "0  ClosestDistance(KernelBasedDistance, accuracy)       1.0   \n",
       "\n",
       "   true_positive_rate  false_positive_rate  mia_advantage  privacy_gain  auc  \\\n",
       "0                 1.0                  0.0            1.0           0.0  1.0   \n",
       "\n",
       "   effective_epsilon  \n",
       "0                inf  "
      ]
     },
     "execution_count": 22,
     "metadata": {},
     "output_type": "execute_result"
    }
   ],
   "source": [
    "summary.get_metrics()"
   ]
  },
  {
   "cell_type": "markdown",
   "id": "60290fef",
   "metadata": {},
   "source": [
    "As expected for the RAW generator, this attack achieves 100% accuracy (since there is a record within distance $0$ if and only if the target is in the dataset)."
   ]
  },
  {
   "cell_type": "markdown",
   "id": "468f159e",
   "metadata": {},
   "source": [
    "### Shadow-modelling attack"
   ]
  },
  {
   "cell_type": "code",
   "execution_count": 23,
   "id": "4a48ada6",
   "metadata": {},
   "outputs": [],
   "source": [
    "from sklearn.linear_model import LogisticRegression\n",
    "from sklearn.ensemble import RandomForestClassifier\n",
    "from sklearn.metrics import roc_curve"
   ]
  },
  {
   "cell_type": "code",
   "execution_count": 24,
   "id": "bb2fa13a",
   "metadata": {},
   "outputs": [],
   "source": [
    "attack = tapas.attacks.ShadowModellingAttack(\n",
    "    tapas.attacks.FeatureBasedSetClassifier(\n",
    "        features = KernelFeature(kernel),\n",
    "        classifier = RandomForestClassifier(),\n",
    "    )\n",
    ")"
   ]
  },
  {
   "cell_type": "markdown",
   "id": "8e58df6f",
   "metadata": {},
   "source": [
    "We first train with a small number of records. It actually works kind of well!"
   ]
  },
  {
   "cell_type": "code",
   "execution_count": 25,
   "id": "dcc450fd",
   "metadata": {},
   "outputs": [],
   "source": [
    "# This involves feature extraction and training a model.\n",
    "attack.train(threat_model, num_samples=100)"
   ]
  },
  {
   "cell_type": "code",
   "execution_count": 26,
   "id": "16a806b3",
   "metadata": {},
   "outputs": [],
   "source": [
    "summary = threat_model.test(attack, num_samples=1000)"
   ]
  },
  {
   "cell_type": "code",
   "execution_count": 27,
   "id": "27b82220",
   "metadata": {},
   "outputs": [
    {
     "data": {
      "text/html": [
       "<div>\n",
       "<style scoped>\n",
       "    .dataframe tbody tr th:only-of-type {\n",
       "        vertical-align: middle;\n",
       "    }\n",
       "\n",
       "    .dataframe tbody tr th {\n",
       "        vertical-align: top;\n",
       "    }\n",
       "\n",
       "    .dataframe thead th {\n",
       "        text-align: right;\n",
       "    }\n",
       "</style>\n",
       "<table border=\"1\" class=\"dataframe\">\n",
       "  <thead>\n",
       "    <tr style=\"text-align: right;\">\n",
       "      <th></th>\n",
       "      <th>dataset</th>\n",
       "      <th>target_id</th>\n",
       "      <th>generator</th>\n",
       "      <th>attack</th>\n",
       "      <th>accuracy</th>\n",
       "      <th>true_positive_rate</th>\n",
       "      <th>false_positive_rate</th>\n",
       "      <th>mia_advantage</th>\n",
       "      <th>privacy_gain</th>\n",
       "      <th>auc</th>\n",
       "      <th>effective_epsilon</th>\n",
       "    </tr>\n",
       "  </thead>\n",
       "  <tbody>\n",
       "    <tr>\n",
       "      <th>0</th>\n",
       "      <td>deezer_ego_nets (AUX)</td>\n",
       "      <td>0</td>\n",
       "      <td>Raw</td>\n",
       "      <td>ShadowModelling(Classifier(Unknown SetFeature,...</td>\n",
       "      <td>0.638</td>\n",
       "      <td>0.50303</td>\n",
       "      <td>0.229703</td>\n",
       "      <td>0.273327</td>\n",
       "      <td>0.726673</td>\n",
       "      <td>0.659534</td>\n",
       "      <td>1.925909</td>\n",
       "    </tr>\n",
       "  </tbody>\n",
       "</table>\n",
       "</div>"
      ],
      "text/plain": [
       "                 dataset target_id generator  \\\n",
       "0  deezer_ego_nets (AUX)         0       Raw   \n",
       "\n",
       "                                              attack  accuracy  \\\n",
       "0  ShadowModelling(Classifier(Unknown SetFeature,...     0.638   \n",
       "\n",
       "   true_positive_rate  false_positive_rate  mia_advantage  privacy_gain  \\\n",
       "0             0.50303             0.229703       0.273327      0.726673   \n",
       "\n",
       "        auc  effective_epsilon  \n",
       "0  0.659534           1.925909  "
      ]
     },
     "execution_count": 27,
     "metadata": {},
     "output_type": "execute_result"
    }
   ],
   "source": [
    "summary.get_metrics()"
   ]
  },
  {
   "cell_type": "code",
   "execution_count": 28,
   "id": "ee78dec1",
   "metadata": {},
   "outputs": [
    {
     "data": {
      "image/png": "[encoded data removed]",
      "text/plain": [
       "<Figure size 500x500 with 1 Axes>"
      ]
     },
     "metadata": {},
     "output_type": "display_data"
    }
   ],
   "source": [
    "plt.figure(figsize=(5,5))\n",
    "tpr, fpr, _ = roc_curve(summary.labels, summary.scores)\n",
    "plt.plot([0,1], [0,1], 'k--', alpha=.4)\n",
    "plt.plot(tpr, fpr)\n",
    "plt.xlim([0,1])\n",
    "plt.ylim([0,1]);"
   ]
  },
  {
   "cell_type": "markdown",
   "id": "24f49bc0",
   "metadata": {},
   "source": [
    "We now train with a *very* large number of samples. Now the shadow-modelling attack works very well!"
   ]
  },
  {
   "cell_type": "code",
   "execution_count": 29,
   "id": "98328ecd",
   "metadata": {},
   "outputs": [],
   "source": [
    "attack.train(threat_model, num_samples=10000)"
   ]
  },
  {
   "cell_type": "code",
   "execution_count": 30,
   "id": "75ddf7c4",
   "metadata": {},
   "outputs": [],
   "source": [
    "summary = threat_model.test(attack, num_samples=1000)"
   ]
  },
  {
   "cell_type": "code",
   "execution_count": 31,
   "id": "ecf1dd33",
   "metadata": {},
   "outputs": [
    {
     "data": {
      "text/html": [
       "<div>\n",
       "<style scoped>\n",
       "    .dataframe tbody tr th:only-of-type {\n",
       "        vertical-align: middle;\n",
       "    }\n",
       "\n",
       "    .dataframe tbody tr th {\n",
       "        vertical-align: top;\n",
       "    }\n",
       "\n",
       "    .dataframe thead th {\n",
       "        text-align: right;\n",
       "    }\n",
       "</style>\n",
       "<table border=\"1\" class=\"dataframe\">\n",
       "  <thead>\n",
       "    <tr style=\"text-align: right;\">\n",
       "      <th></th>\n",
       "      <th>dataset</th>\n",
       "      <th>target_id</th>\n",
       "      <th>generator</th>\n",
       "      <th>attack</th>\n",
       "      <th>accuracy</th>\n",
       "      <th>true_positive_rate</th>\n",
       "      <th>false_positive_rate</th>\n",
       "      <th>mia_advantage</th>\n",
       "      <th>privacy_gain</th>\n",
       "      <th>auc</th>\n",
       "      <th>effective_epsilon</th>\n",
       "    </tr>\n",
       "  </thead>\n",
       "  <tbody>\n",
       "    <tr>\n",
       "      <th>0</th>\n",
       "      <td>deezer_ego_nets (AUX)</td>\n",
       "      <td>0</td>\n",
       "      <td>Raw</td>\n",
       "      <td>ShadowModelling(Classifier(Unknown SetFeature,...</td>\n",
       "      <td>0.792</td>\n",
       "      <td>0.80202</td>\n",
       "      <td>0.217822</td>\n",
       "      <td>0.584198</td>\n",
       "      <td>0.415802</td>\n",
       "      <td>0.873545</td>\n",
       "      <td>inf</td>\n",
       "    </tr>\n",
       "  </tbody>\n",
       "</table>\n",
       "</div>"
      ],
      "text/plain": [
       "                 dataset target_id generator  \\\n",
       "0  deezer_ego_nets (AUX)         0       Raw   \n",
       "\n",
       "                                              attack  accuracy  \\\n",
       "0  ShadowModelling(Classifier(Unknown SetFeature,...     0.792   \n",
       "\n",
       "   true_positive_rate  false_positive_rate  mia_advantage  privacy_gain  \\\n",
       "0             0.80202             0.217822       0.584198      0.415802   \n",
       "\n",
       "        auc  effective_epsilon  \n",
       "0  0.873545                inf  "
      ]
     },
     "execution_count": 31,
     "metadata": {},
     "output_type": "execute_result"
    }
   ],
   "source": [
    "summary.get_metrics()"
   ]
  },
  {
   "cell_type": "code",
   "execution_count": 32,
   "id": "b69b83f1",
   "metadata": {},
   "outputs": [
    {
     "data": {
      "image/png": "[encoded data removed]",
      "text/plain": [
       "<Figure size 500x500 with 1 Axes>"
      ]
     },
     "metadata": {},
     "output_type": "display_data"
    }
   ],
   "source": [
    "plt.figure(figsize=(5,5))\n",
    "tpr, fpr, _ = roc_curve(summary.labels, summary.scores)\n",
    "plt.plot([0,1], [0,1], 'k--', alpha=.4)\n",
    "plt.plot(tpr, fpr)\n",
    "plt.xlim([0,1])\n",
    "plt.ylim([0,1]);"
   ]
  },
  {
   "cell_type": "markdown",
   "id": "c396218a",
   "metadata": {},
   "source": [
    "### Composed graph classifier\n",
    "\n",
    "We now use our custom composed graph classifier (using the same parameters otherwise). Note that this is very slow, since the kernel needs to be recomputed for every dataset.\n",
    "\n",
    "Surprisingly, this works very well, almost as well as distance-based attack (although it is noticeably slower), even with a small number of samples."
   ]
  },
  {
   "cell_type": "code",
   "execution_count": 33,
   "id": "9f7ba1ce",
   "metadata": {},
   "outputs": [],
   "source": [
    "attack = tapas.attacks.ShadowModellingAttack(\n",
    "    tapas.attacks.ComposedGraphClassifier(\n",
    "        classifier = RandomForestClassifier(),\n",
    "        # Remove all memoization (this expects a grakel.Kernel).\n",
    "        kernel = kernel.kernel\n",
    "    ),\n",
    "    label = 'ComposedAttack'\n",
    ")"
   ]
  },
  {
   "cell_type": "code",
   "execution_count": 34,
   "id": "6fe0d3d8",
   "metadata": {},
   "outputs": [],
   "source": [
    "attack.train(threat_model, num_samples=100)"
   ]
  },
  {
   "cell_type": "code",
   "execution_count": 35,
   "id": "4dbd373d",
   "metadata": {},
   "outputs": [],
   "source": [
    "summary = threat_model.test(attack, num_samples=1000)"
   ]
  },
  {
   "cell_type": "code",
   "execution_count": 36,
   "id": "7affb433",
   "metadata": {},
   "outputs": [
    {
     "data": {
      "text/html": [
       "<div>\n",
       "<style scoped>\n",
       "    .dataframe tbody tr th:only-of-type {\n",
       "        vertical-align: middle;\n",
       "    }\n",
       "\n",
       "    .dataframe tbody tr th {\n",
       "        vertical-align: top;\n",
       "    }\n",
       "\n",
       "    .dataframe thead th {\n",
       "        text-align: right;\n",
       "    }\n",
       "</style>\n",
       "<table border=\"1\" class=\"dataframe\">\n",
       "  <thead>\n",
       "    <tr style=\"text-align: right;\">\n",
       "      <th></th>\n",
       "      <th>dataset</th>\n",
       "      <th>target_id</th>\n",
       "      <th>generator</th>\n",
       "      <th>attack</th>\n",
       "      <th>accuracy</th>\n",
       "      <th>true_positive_rate</th>\n",
       "      <th>false_positive_rate</th>\n",
       "      <th>mia_advantage</th>\n",
       "      <th>privacy_gain</th>\n",
       "      <th>auc</th>\n",
       "      <th>effective_epsilon</th>\n",
       "    </tr>\n",
       "  </thead>\n",
       "  <tbody>\n",
       "    <tr>\n",
       "      <th>0</th>\n",
       "      <td>deezer_ego_nets (AUX)</td>\n",
       "      <td>0</td>\n",
       "      <td>Raw</td>\n",
       "      <td>ComposedAttack</td>\n",
       "      <td>0.939</td>\n",
       "      <td>0.915152</td>\n",
       "      <td>0.037624</td>\n",
       "      <td>0.877528</td>\n",
       "      <td>0.122472</td>\n",
       "      <td>0.987177</td>\n",
       "      <td>inf</td>\n",
       "    </tr>\n",
       "  </tbody>\n",
       "</table>\n",
       "</div>"
      ],
      "text/plain": [
       "                 dataset target_id generator          attack  accuracy  \\\n",
       "0  deezer_ego_nets (AUX)         0       Raw  ComposedAttack     0.939   \n",
       "\n",
       "   true_positive_rate  false_positive_rate  mia_advantage  privacy_gain  \\\n",
       "0            0.915152             0.037624       0.877528      0.122472   \n",
       "\n",
       "        auc  effective_epsilon  \n",
       "0  0.987177                inf  "
      ]
     },
     "execution_count": 36,
     "metadata": {},
     "output_type": "execute_result"
    }
   ],
   "source": [
    "summary.get_metrics()"
   ]
  },
  {
   "cell_type": "code",
   "execution_count": 45,
   "id": "16d04c40",
   "metadata": {},
   "outputs": [
    {
     "data": {
      "image/png": "[encoded data removed]",
      "text/plain": [
       "<Figure size 500x500 with 1 Axes>"
      ]
     },
     "metadata": {},
     "output_type": "display_data"
    }
   ],
   "source": [
    "plt.figure(figsize=(5,5))\n",
    "tpr, fpr, _ = roc_curve(summary.labels, summary.scores)\n",
    "plt.plot([0,1], [0,1], 'k--', alpha=.4)\n",
    "plt.plot(tpr, fpr)\n",
    "plt.xlim([-0.01,1])\n",
    "plt.ylim([0,1.01]);"
   ]
  },
  {
   "cell_type": "markdown",
   "id": "ae7f0b16",
   "metadata": {},
   "source": [
    "## Multi-target model\n",
    "\n",
    "For this, for each synthetic dataset, we need to recover its training set, and find records which were _not_ in that set."
   ]
  },
  {
   "cell_type": "code",
   "execution_count": 47,
   "id": "518fa810",
   "metadata": {},
   "outputs": [],
   "source": [
    "auxiliary_data = threat_model.atk_know_data.attacker_knowledge.aux_data"
   ]
  },
  {
   "cell_type": "code",
   "execution_count": 69,
   "id": "6b7c4375",
   "metadata": {},
   "outputs": [],
   "source": [
    "synth_datasets_train, _ = threat_model.generate_training_samples(100)"
   ]
  },
  {
   "cell_type": "code",
   "execution_count": 71,
   "id": "78ebb882",
   "metadata": {},
   "outputs": [],
   "source": [
    "synth_datasets_test, _ = threat_model._generate_samples(100, training=False)"
   ]
  },
  {
   "cell_type": "markdown",
   "id": "fb9047ce",
   "metadata": {},
   "source": [
    "For each real dataset, sample a dataset of same size of records that are _not_ in the real data. Transform these in lists of features `X` and labels `y` (this is merely a data structure change)."
   ]
  },
  {
   "cell_type": "code",
   "execution_count": 68,
   "id": "7dae18de",
   "metadata": {},
   "outputs": [],
   "source": [
    "def extract_features_and_labels(auxiliary_data, synth_datasets, real_datasets):\n",
    "    negative_datasets = []\n",
    "    for dataset in real_datasets:\n",
    "        # Use twice as many samples to make sure we have enough.\n",
    "        candidates = auxiliary_data.sample(2*len(dataset))\n",
    "        # Find all candidates that are *not* in the dataset.\n",
    "        indices_to_keep = []\n",
    "        for idx, record in enumerate(candidates):\n",
    "            # Check if the record is in the real (or synthetic lol) dataset.\n",
    "            if record in dataset:\n",
    "                continue\n",
    "            indices_to_keep.append(idx)\n",
    "            if len(indices_to_keep) >= len(dataset):\n",
    "                break\n",
    "        negative_datasets.append(candidates.get_records(indices_to_keep))\n",
    "    # We know have positive, negative and synthetic datasets.\n",
    "    X = []\n",
    "    y = []\n",
    "    for positive, negative, synth in zip(real_datasets, negative_datasets, synth_datasets):\n",
    "        for record in positive:\n",
    "            X.append((synth, record))\n",
    "            y.append(True)\n",
    "        for record in negative:\n",
    "            X.append((synth, record))\n",
    "            y.append(False)\n",
    "    return X, y"
   ]
  },
  {
   "cell_type": "markdown",
   "id": "53b57507",
   "metadata": {},
   "source": [
    "Create feature and label vectors for train and test."
   ]
  },
  {
   "cell_type": "code",
   "execution_count": 70,
   "id": "9772d01e",
   "metadata": {},
   "outputs": [],
   "source": [
    "X_train, y_train = extract_features_and_labels(\n",
    "    threat_model.atk_know_data.attacker_knowledge.aux_data,\n",
    "    synth_datasets_train,\n",
    "    synth_datasets_train\n",
    ")"
   ]
  },
  {
   "cell_type": "code",
   "execution_count": 72,
   "id": "43141869",
   "metadata": {},
   "outputs": [],
   "source": [
    "X_test, y_test = extract_features_and_labels(\n",
    "    threat_model.atk_know_data.attacker_knowledge.test_data,\n",
    "    synth_datasets_test,\n",
    "    synth_datasets_test\n",
    ")"
   ]
  },
  {
   "cell_type": "markdown",
   "id": "4fadf220",
   "metadata": {},
   "source": [
    "Train and deploy an attack. We'll use the _composed dataset approach_ which seems to work so well."
   ]
  },
  {
   "cell_type": "code",
   "execution_count": 96,
   "id": "f7136df1",
   "metadata": {},
   "outputs": [],
   "source": [
    "import tqdm"
   ]
  },
  {
   "cell_type": "code",
   "execution_count": 97,
   "id": "b45b5345",
   "metadata": {},
   "outputs": [],
   "source": [
    "g = tapas.attacks.ComposedGraphClassifier()\n",
    "_memo = {}\n",
    "\n",
    "def extract_features(X):\n",
    "    features = []\n",
    "    for synth_data, record in tqdm.tqdm(X):\n",
    "        if synth_data not in _memo:\n",
    "            _memo[synth_data] = kernel.kernel.transform(_grak(g._compose_datasets([synth_data])))[0]\n",
    "        if record not in _memo:\n",
    "            _memo[record] = kernel.kernel.transform(_grak(record.data))[0]\n",
    "        features.append(np.concatenate((_memo[synth_data], _memo[record])))\n",
    "    return np.array(features)"
   ]
  },
  {
   "cell_type": "code",
   "execution_count": 98,
   "id": "434f0e08",
   "metadata": {},
   "outputs": [
    {
     "name": "stderr",
     "output_type": "stream",
     "text": [
      "100%|████████████████████████████████████████████████| 20000/20000 [13:55<00:00, 23.94it/s]\n"
     ]
    }
   ],
   "source": [
    "ft_train = extract_features(X_train)"
   ]
  },
  {
   "cell_type": "code",
   "execution_count": 99,
   "id": "e85a0535",
   "metadata": {},
   "outputs": [
    {
     "name": "stderr",
     "output_type": "stream",
     "text": [
      "100%|████████████████████████████████████████████████| 20000/20000 [12:59<00:00, 25.67it/s]\n"
     ]
    }
   ],
   "source": [
    "ft_test = extract_features(X_test)"
   ]
  },
  {
   "cell_type": "markdown",
   "id": "2132920c",
   "metadata": {},
   "source": [
    "Train a model."
   ]
  },
  {
   "cell_type": "code",
   "execution_count": 107,
   "id": "3468b131",
   "metadata": {},
   "outputs": [],
   "source": [
    "model = LogisticRegression()"
   ]
  },
  {
   "cell_type": "code",
   "execution_count": 108,
   "id": "633044c8",
   "metadata": {},
   "outputs": [
    {
     "data": {
      "text/html": [
       "<style>#sk-container-id-3 {color: black;background-color: white;}#sk-container-id-3 pre{padding: 0;}#sk-container-id-3 div.sk-toggleable {background-color: white;}#sk-container-id-3 label.sk-toggleable__label {cursor: pointer;display: block;width: 100%;margin-bottom: 0;padding: 0.3em;box-sizing: border-box;text-align: center;}#sk-container-id-3 label.sk-toggleable__label-arrow:before {content: \"▸\";float: left;margin-right: 0.25em;color: #696969;}#sk-container-id-3 label.sk-toggleable__label-arrow:hover:before {color: black;}#sk-container-id-3 div.sk-estimator:hover label.sk-toggleable__label-arrow:before {color: black;}#sk-container-id-3 div.sk-toggleable__content {max-height: 0;max-width: 0;overflow: hidden;text-align: left;background-color: #f0f8ff;}#sk-container-id-3 div.sk-toggleable__content pre {margin: 0.2em;color: black;border-radius: 0.25em;background-color: #f0f8ff;}#sk-container-id-3 input.sk-toggleable__control:checked~div.sk-toggleable__content {max-height: 200px;max-width: 100%;overflow: auto;}#sk-container-id-3 input.sk-toggleable__control:checked~label.sk-toggleable__label-arrow:before {content: \"▾\";}#sk-container-id-3 div.sk-estimator input.sk-toggleable__control:checked~label.sk-toggleable__label {background-color: #d4ebff;}#sk-container-id-3 div.sk-label input.sk-toggleable__control:checked~label.sk-toggleable__label {background-color: #d4ebff;}#sk-container-id-3 input.sk-hidden--visually {border: 0;clip: rect(1px 1px 1px 1px);clip: rect(1px, 1px, 1px, 1px);height: 1px;margin: -1px;overflow: hidden;padding: 0;position: absolute;width: 1px;}#sk-container-id-3 div.sk-estimator {font-family: monospace;background-color: #f0f8ff;border: 1px dotted black;border-radius: 0.25em;box-sizing: border-box;margin-bottom: 0.5em;}#sk-container-id-3 div.sk-estimator:hover {background-color: #d4ebff;}#sk-container-id-3 div.sk-parallel-item::after {content: \"\";width: 100%;border-bottom: 1px solid gray;flex-grow: 1;}#sk-container-id-3 div.sk-label:hover label.sk-toggleable__label {background-color: #d4ebff;}#sk-container-id-3 div.sk-serial::before {content: \"\";position: absolute;border-left: 1px solid gray;box-sizing: border-box;top: 0;bottom: 0;left: 50%;z-index: 0;}#sk-container-id-3 div.sk-serial {display: flex;flex-direction: column;align-items: center;background-color: white;padding-right: 0.2em;padding-left: 0.2em;position: relative;}#sk-container-id-3 div.sk-item {position: relative;z-index: 1;}#sk-container-id-3 div.sk-parallel {display: flex;align-items: stretch;justify-content: center;background-color: white;position: relative;}#sk-container-id-3 div.sk-item::before, #sk-container-id-3 div.sk-parallel-item::before {content: \"\";position: absolute;border-left: 1px solid gray;box-sizing: border-box;top: 0;bottom: 0;left: 50%;z-index: -1;}#sk-container-id-3 div.sk-parallel-item {display: flex;flex-direction: column;z-index: 1;position: relative;background-color: white;}#sk-container-id-3 div.sk-parallel-item:first-child::after {align-self: flex-end;width: 50%;}#sk-container-id-3 div.sk-parallel-item:last-child::after {align-self: flex-start;width: 50%;}#sk-container-id-3 div.sk-parallel-item:only-child::after {width: 0;}#sk-container-id-3 div.sk-dashed-wrapped {border: 1px dashed gray;margin: 0 0.4em 0.5em 0.4em;box-sizing: border-box;padding-bottom: 0.4em;background-color: white;}#sk-container-id-3 div.sk-label label {font-family: monospace;font-weight: bold;display: inline-block;line-height: 1.2em;}#sk-container-id-3 div.sk-label-container {text-align: center;}#sk-container-id-3 div.sk-container {/* jupyter's `normalize.less` sets `[hidden] { display: none; }` but bootstrap.min.css set `[hidden] { display: none !important; }` so we also need the `!important` here to be able to override the default hidden behavior on the sphinx rendered scikit-learn.org. See: https://github.com/scikit-learn/scikit-learn/issues/21755 */display: inline-block !important;position: relative;}#sk-container-id-3 div.sk-text-repr-fallback {display: none;}</style><div id=\"sk-container-id-3\" class=\"sk-top-container\"><div class=\"sk-text-repr-fallback\"><pre>LogisticRegression()</pre><b>In a Jupyter environment, please rerun this cell to show the HTML representation or trust the notebook. <br />On GitHub, the HTML representation is unable to render, please try loading this page with nbviewer.org.</b></div><div class=\"sk-container\" hidden><div class=\"sk-item\"><div class=\"sk-estimator sk-toggleable\"><input class=\"sk-toggleable__control sk-hidden--visually\" id=\"sk-estimator-id-3\" type=\"checkbox\" checked><label for=\"sk-estimator-id-3\" class=\"sk-toggleable__label sk-toggleable__label-arrow\">LogisticRegression</label><div class=\"sk-toggleable__content\"><pre>LogisticRegression()</pre></div></div></div></div></div>"
      ],
      "text/plain": [
       "LogisticRegression()"
      ]
     },
     "execution_count": 108,
     "metadata": {},
     "output_type": "execute_result"
    }
   ],
   "source": [
    "model.fit(ft_train, y_train)"
   ]
  },
  {
   "cell_type": "code",
   "execution_count": 109,
   "id": "6f4efbf4",
   "metadata": {},
   "outputs": [],
   "source": [
    "scores_train = model.predict_proba(ft_train)[:,1]"
   ]
  },
  {
   "cell_type": "code",
   "execution_count": 110,
   "id": "9a58af1a",
   "metadata": {},
   "outputs": [],
   "source": [
    "scores_test = model.predict_proba(ft_test)[:,1]"
   ]
  },
  {
   "cell_type": "code",
   "execution_count": 111,
   "id": "3ccc57ae",
   "metadata": {},
   "outputs": [
    {
     "data": {
      "image/png": "[encoded data removed]",
      "text/plain": [
       "<Figure size 500x500 with 1 Axes>"
      ]
     },
     "metadata": {},
     "output_type": "display_data"
    }
   ],
   "source": [
    "plt.figure(figsize=(5,5))\n",
    "plt.plot([0,1], [0,1], 'k--', alpha=.4)\n",
    "\n",
    "tpr, fpr, _ = roc_curve(y_test, scores_test)\n",
    "plt.plot(tpr, fpr, 'g')\n",
    "\n",
    "tpr, fpr, _ = roc_curve(y_train, scores_train)\n",
    "plt.plot(tpr, fpr, 'b')\n",
    "\n",
    "plt.xlim([-0.01,1])\n",
    "plt.ylim([0,1.01]);"
   ]
  },
  {
   "cell_type": "markdown",
   "id": "bab27c2c",
   "metadata": {},
   "source": [
    "There seems to be no signal at all."
   ]
  },
  {
   "cell_type": "markdown",
   "id": "b8ec91c8",
   "metadata": {},
   "source": [
    "### Kernel features \n",
    "Stratis was suggesting something else: adapt the classifier to take $k(G, r)$ as input. By construction, this should work well."
   ]
  },
  {
   "cell_type": "code",
   "execution_count": 150,
   "id": "cf0d7d1f",
   "metadata": {},
   "outputs": [],
   "source": [
    "def extract_kernel_features(auxiliary_data, synth_datasets, real_datasets):\n",
    "    negative_datasets = []\n",
    "    for dataset in real_datasets:\n",
    "        # Use twice as many samples to make sure we have enough.\n",
    "        candidates = auxiliary_data.sample(2*len(dataset))\n",
    "        # Find all candidates that are *not* in the dataset.\n",
    "        indices_to_keep = []\n",
    "        for idx, record in enumerate(candidates):\n",
    "            # Check if the record is in the real (or synthetic lol) dataset.\n",
    "            if record in dataset:\n",
    "                continue\n",
    "            indices_to_keep.append(idx)\n",
    "            if len(indices_to_keep) >= len(dataset):\n",
    "                break\n",
    "        negative_datasets.append(candidates.get_records(indices_to_keep))\n",
    "\n",
    "    # We know have positive, negative and synthetic datasets.\n",
    "    # We are going to compute the graph kernel between synthetic data and individual records\n",
    "    X = []\n",
    "    y = []\n",
    "    for positive, negative, synth in zip(real_datasets, negative_datasets, synth_datasets):\n",
    "        # The features we are going to compute are k(synth_dataset, record).\n",
    "        # We first \"fit\" the kernel (s.t. kernel.transform:  g -> k(synth_dataset, g)).\n",
    "        kernel.kernel.fit(_grak(synth.data))\n",
    "        # Then apply it to positive and negative records.\n",
    "        for record in positive + negative:\n",
    "            X.append(kernel.kernel.transform(_grak(record.data))[0])\n",
    "        y += [True] * len(positive)\n",
    "        y += [False] * len(negative)\n",
    "    return np.array(X), np.array(y)"
   ]
  },
  {
   "cell_type": "markdown",
   "id": "97813ddf",
   "metadata": {},
   "source": [
    "Generate train and test datasets."
   ]
  },
  {
   "cell_type": "code",
   "execution_count": 143,
   "id": "57fb2817",
   "metadata": {},
   "outputs": [],
   "source": [
    "auxiliary_data = threat_model.atk_know_data.attacker_knowledge.aux_data"
   ]
  },
  {
   "cell_type": "code",
   "execution_count": 144,
   "id": "1b3eb3c4",
   "metadata": {},
   "outputs": [],
   "source": [
    "synth_datasets_train, _ = threat_model.generate_training_samples(100)"
   ]
  },
  {
   "cell_type": "code",
   "execution_count": 145,
   "id": "4588a00c",
   "metadata": {},
   "outputs": [],
   "source": [
    "synth_datasets_test, _ = threat_model._generate_samples(100, training=False)"
   ]
  },
  {
   "cell_type": "markdown",
   "id": "a43e5b23",
   "metadata": {},
   "source": [
    "Do the kernel transformation."
   ]
  },
  {
   "cell_type": "code",
   "execution_count": 151,
   "id": "c6d6be05",
   "metadata": {},
   "outputs": [],
   "source": [
    "kf_train, y_train = extract_kernel_features(auxiliary_data, synth_datasets_train, synth_datasets_train)"
   ]
  },
  {
   "cell_type": "code",
   "execution_count": 154,
   "id": "fad167e0",
   "metadata": {},
   "outputs": [],
   "source": [
    "kf_test, y_test = extract_kernel_features(auxiliary_data, synth_datasets_test, synth_datasets_test)"
   ]
  },
  {
   "cell_type": "markdown",
   "id": "d4f7a933",
   "metadata": {},
   "source": [
    "Apply a simple classifier as attack (as a treat). Note that this _should_ work very well -- the task is to detect whether there is a 1 in the vector."
   ]
  },
  {
   "cell_type": "code",
   "execution_count": 169,
   "id": "ce234efd",
   "metadata": {},
   "outputs": [],
   "source": [
    "# model = LogisticRegression()\n",
    "model = RandomForestClassifier()"
   ]
  },
  {
   "cell_type": "code",
   "execution_count": 170,
   "id": "c7fb0bf8",
   "metadata": {},
   "outputs": [
    {
     "data": {
      "text/html": [
       "<style>#sk-container-id-7 {color: black;background-color: white;}#sk-container-id-7 pre{padding: 0;}#sk-container-id-7 div.sk-toggleable {background-color: white;}#sk-container-id-7 label.sk-toggleable__label {cursor: pointer;display: block;width: 100%;margin-bottom: 0;padding: 0.3em;box-sizing: border-box;text-align: center;}#sk-container-id-7 label.sk-toggleable__label-arrow:before {content: \"▸\";float: left;margin-right: 0.25em;color: #696969;}#sk-container-id-7 label.sk-toggleable__label-arrow:hover:before {color: black;}#sk-container-id-7 div.sk-estimator:hover label.sk-toggleable__label-arrow:before {color: black;}#sk-container-id-7 div.sk-toggleable__content {max-height: 0;max-width: 0;overflow: hidden;text-align: left;background-color: #f0f8ff;}#sk-container-id-7 div.sk-toggleable__content pre {margin: 0.2em;color: black;border-radius: 0.25em;background-color: #f0f8ff;}#sk-container-id-7 input.sk-toggleable__control:checked~div.sk-toggleable__content {max-height: 200px;max-width: 100%;overflow: auto;}#sk-container-id-7 input.sk-toggleable__control:checked~label.sk-toggleable__label-arrow:before {content: \"▾\";}#sk-container-id-7 div.sk-estimator input.sk-toggleable__control:checked~label.sk-toggleable__label {background-color: #d4ebff;}#sk-container-id-7 div.sk-label input.sk-toggleable__control:checked~label.sk-toggleable__label {background-color: #d4ebff;}#sk-container-id-7 input.sk-hidden--visually {border: 0;clip: rect(1px 1px 1px 1px);clip: rect(1px, 1px, 1px, 1px);height: 1px;margin: -1px;overflow: hidden;padding: 0;position: absolute;width: 1px;}#sk-container-id-7 div.sk-estimator {font-family: monospace;background-color: #f0f8ff;border: 1px dotted black;border-radius: 0.25em;box-sizing: border-box;margin-bottom: 0.5em;}#sk-container-id-7 div.sk-estimator:hover {background-color: #d4ebff;}#sk-container-id-7 div.sk-parallel-item::after {content: \"\";width: 100%;border-bottom: 1px solid gray;flex-grow: 1;}#sk-container-id-7 div.sk-label:hover label.sk-toggleable__label {background-color: #d4ebff;}#sk-container-id-7 div.sk-serial::before {content: \"\";position: absolute;border-left: 1px solid gray;box-sizing: border-box;top: 0;bottom: 0;left: 50%;z-index: 0;}#sk-container-id-7 div.sk-serial {display: flex;flex-direction: column;align-items: center;background-color: white;padding-right: 0.2em;padding-left: 0.2em;position: relative;}#sk-container-id-7 div.sk-item {position: relative;z-index: 1;}#sk-container-id-7 div.sk-parallel {display: flex;align-items: stretch;justify-content: center;background-color: white;position: relative;}#sk-container-id-7 div.sk-item::before, #sk-container-id-7 div.sk-parallel-item::before {content: \"\";position: absolute;border-left: 1px solid gray;box-sizing: border-box;top: 0;bottom: 0;left: 50%;z-index: -1;}#sk-container-id-7 div.sk-parallel-item {display: flex;flex-direction: column;z-index: 1;position: relative;background-color: white;}#sk-container-id-7 div.sk-parallel-item:first-child::after {align-self: flex-end;width: 50%;}#sk-container-id-7 div.sk-parallel-item:last-child::after {align-self: flex-start;width: 50%;}#sk-container-id-7 div.sk-parallel-item:only-child::after {width: 0;}#sk-container-id-7 div.sk-dashed-wrapped {border: 1px dashed gray;margin: 0 0.4em 0.5em 0.4em;box-sizing: border-box;padding-bottom: 0.4em;background-color: white;}#sk-container-id-7 div.sk-label label {font-family: monospace;font-weight: bold;display: inline-block;line-height: 1.2em;}#sk-container-id-7 div.sk-label-container {text-align: center;}#sk-container-id-7 div.sk-container {/* jupyter's `normalize.less` sets `[hidden] { display: none; }` but bootstrap.min.css set `[hidden] { display: none !important; }` so we also need the `!important` here to be able to override the default hidden behavior on the sphinx rendered scikit-learn.org. See: https://github.com/scikit-learn/scikit-learn/issues/21755 */display: inline-block !important;position: relative;}#sk-container-id-7 div.sk-text-repr-fallback {display: none;}</style><div id=\"sk-container-id-7\" class=\"sk-top-container\"><div class=\"sk-text-repr-fallback\"><pre>RandomForestClassifier()</pre><b>In a Jupyter environment, please rerun this cell to show the HTML representation or trust the notebook. <br />On GitHub, the HTML representation is unable to render, please try loading this page with nbviewer.org.</b></div><div class=\"sk-container\" hidden><div class=\"sk-item\"><div class=\"sk-estimator sk-toggleable\"><input class=\"sk-toggleable__control sk-hidden--visually\" id=\"sk-estimator-id-7\" type=\"checkbox\" checked><label for=\"sk-estimator-id-7\" class=\"sk-toggleable__label sk-toggleable__label-arrow\">RandomForestClassifier</label><div class=\"sk-toggleable__content\"><pre>RandomForestClassifier()</pre></div></div></div></div></div>"
      ],
      "text/plain": [
       "RandomForestClassifier()"
      ]
     },
     "execution_count": 170,
     "metadata": {},
     "output_type": "execute_result"
    }
   ],
   "source": [
    "model.fit(kf_train, y_train)"
   ]
  },
  {
   "cell_type": "code",
   "execution_count": 171,
   "id": "a1ae0296",
   "metadata": {},
   "outputs": [],
   "source": [
    "scores_train = model.predict_proba(kf_train)[:,1]"
   ]
  },
  {
   "cell_type": "code",
   "execution_count": 172,
   "id": "b105add9",
   "metadata": {},
   "outputs": [],
   "source": [
    "scores_test = model.predict_proba(kf_test)[:,1]"
   ]
  },
  {
   "cell_type": "code",
   "execution_count": 173,
   "id": "f4b7bdb7",
   "metadata": {},
   "outputs": [
    {
     "data": {
      "image/png": "[encoded data removed]",
      "text/plain": [
       "<Figure size 500x500 with 1 Axes>"
      ]
     },
     "metadata": {},
     "output_type": "display_data"
    }
   ],
   "source": [
    "plt.figure(figsize=(5,5))\n",
    "plt.plot([0,1], [0,1], 'k--', alpha=.4)\n",
    "\n",
    "tpr, fpr, _ = roc_curve(y_test, scores_test)\n",
    "plt.plot(tpr, fpr, 'g')\n",
    "\n",
    "tpr, fpr, _ = roc_curve(y_train, scores_train)\n",
    "plt.plot(tpr, fpr, 'b')\n",
    "\n",
    "plt.xlim([-0.01,1])\n",
    "plt.ylim([0,1.01]);"
   ]
  },
  {
   "cell_type": "markdown",
   "id": "67d4cdca",
   "metadata": {},
   "source": [
    "OK so this works, at last! Next step is to try on a real generator."
   ]
  }
 ],
 "metadata": {
  "kernelspec": {
   "display_name": "Python 3 (ipykernel)",
   "language": "python",
   "name": "python3"
  },
  "language_info": {
   "codemirror_mode": {
    "name": "ipython",
    "version": 3
   },
   "file_extension": ".py",
   "mimetype": "text/x-python",
   "name": "python",
   "nbconvert_exporter": "python",
   "pygments_lexer": "ipython3",
   "version": "3.10.11"
  }
 },
 "nbformat": 4,
 "nbformat_minor": 5
}
