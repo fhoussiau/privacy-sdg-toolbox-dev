{
 "cells": [
  {
   "cell_type": "markdown",
   "id": "c503f2a8",
   "metadata": {},
   "source": [
    "In this notebook, we apply the attacks on graph datasets, but use the optimization where we train a classifier which observes the dataset and target record to make a decision. This is crucial, as graph generation methods are extremely computationally expensive to run."
   ]
  },
  {
   "cell_type": "code",
   "execution_count": 1,
   "id": "8616ff8f",
   "metadata": {},
   "outputs": [],
   "source": [
    "import numpy as np\n",
    "import matplotlib.pyplot as plt\n",
    "%matplotlib inline\n",
    "\n",
    "import tqdm\n",
    "\n",
    "import tapas.datasets\n",
    "import tapas.generators\n",
    "import tapas.threat_models\n",
    "import tapas.attacks"
   ]
  },
  {
   "cell_type": "code",
   "execution_count": 2,
   "id": "fc44704b",
   "metadata": {},
   "outputs": [],
   "source": [
    "np.random.seed(420)"
   ]
  },
  {
   "cell_type": "markdown",
   "id": "428e2214",
   "metadata": {},
   "source": [
    "## Real-world private datasets\n",
    "\n",
    "The COLLAB dataset contains collaboration networks of academics. They are ego networks for these academics."
   ]
  },
  {
   "cell_type": "code",
   "execution_count": 3,
   "id": "948e569a",
   "metadata": {},
   "outputs": [
    {
     "name": "stdout",
     "output_type": "stream",
     "text": [
      "Loading TU graph dataset: deezer_ego_nets\n"
     ]
    }
   ],
   "source": [
    "data = tapas.datasets.TUDataset.read(\"deezer_ego_nets\", \"deezer_ego_nets\")"
   ]
  },
  {
   "cell_type": "markdown",
   "id": "814b8b47",
   "metadata": {},
   "source": [
    "## Memoized kernels\n",
    "\n",
    "In our attacks, the main blocker is that kernels are computed many times over the same graph, leading to massive performance overheads. Memoization is the key here.\n",
    "\n",
    "Importantly, we do not check whether graphs are identical, but merely whether they are stored in the same location in memory.\n",
    "\n",
    "We also use this class to provide a clean interface between grakel kernels and networkx data."
   ]
  },
  {
   "cell_type": "code",
   "execution_count": 4,
   "id": "4221e37c",
   "metadata": {},
   "outputs": [],
   "source": [
    "import networkx as nx\n",
    "from grakel.utils import graph_from_networkx\n",
    "\n",
    "def _grak(graphs):\n",
    "    # Add a label to the graphs, for compatibility with grakel.\n",
    "    for G in graphs:\n",
    "        # Relabel the graph nodes (useful for the kernel).\n",
    "        nx.set_node_attributes(G, dict(zip(G.nodes, range(len(G.nodes)))), \"label\")\n",
    "    return graph_from_networkx(graphs, node_labels_tag=\"label\")"
   ]
  },
  {
   "cell_type": "code",
   "execution_count": 5,
   "id": "2d96fb80",
   "metadata": {},
   "outputs": [],
   "source": [
    "class Memoize:\n",
    "    def __init__(self, kernel):\n",
    "        self.kernel = kernel\n",
    "        self.memory = {}\n",
    "    \n",
    "    def fit(self, tudataset):\n",
    "        self.memory = {}  # Fitting the kernel resets the memory.\n",
    "        self.kernel.fit(_grak(tudataset.data))\n",
    "\n",
    "    def transform(self, tudataset):\n",
    "        # Use G for the key, and grak(G) for the feature transformation.\n",
    "        for G in tudataset.data:\n",
    "            if G not in self.memory:\n",
    "                self.memory[G] = self.kernel.transform(_grak([G]))[0]\n",
    "        return np.stack([self.memory[G] for G in tudataset.data])\n",
    "\n",
    "    def fit_transform(self, tudataset):        \n",
    "        self.fit(tudataset)\n",
    "        return self.transform(tudataset)"
   ]
  },
  {
   "cell_type": "markdown",
   "id": "31134675",
   "metadata": {},
   "source": [
    "We now instantiate a typical kernel."
   ]
  },
  {
   "cell_type": "code",
   "execution_count": 6,
   "id": "e900e7b6",
   "metadata": {},
   "outputs": [],
   "source": [
    "from grakel import WeisfeilerLehman, VertexHistogram\n",
    "\n",
    "kernel = Memoize(\n",
    "    WeisfeilerLehman(n_iter=4, base_graph_kernel=VertexHistogram, normalize=True)\n",
    ")"
   ]
  },
  {
   "cell_type": "markdown",
   "id": "2e499cc8",
   "metadata": {},
   "source": [
    "## Threat modelling (typical TAPAS)"
   ]
  },
  {
   "cell_type": "markdown",
   "id": "14b552f6",
   "metadata": {},
   "source": [
    "We attack the Raw generator, for simplicity. This should be trivially attackable!"
   ]
  },
  {
   "cell_type": "code",
   "execution_count": 7,
   "id": "2b80f5d2",
   "metadata": {},
   "outputs": [],
   "source": [
    "import pandas as pd"
   ]
  },
  {
   "cell_type": "code",
   "execution_count": 8,
   "id": "d10bbf13",
   "metadata": {},
   "outputs": [],
   "source": [
    "generator = tapas.generators.Raw()"
   ]
  },
  {
   "cell_type": "markdown",
   "id": "9c617f33",
   "metadata": {},
   "source": [
    "We can adapt the threat model to have every record be a target."
   ]
  },
  {
   "cell_type": "code",
   "execution_count": 9,
   "id": "0c361dca",
   "metadata": {},
   "outputs": [],
   "source": [
    "size_private_dataset = 100\n",
    "# size_synthetic_dataset = 100"
   ]
  },
  {
   "cell_type": "code",
   "execution_count": 10,
   "id": "faace208",
   "metadata": {},
   "outputs": [],
   "source": [
    "# If the private dataset is of size K, choose 2K users at random to serve as target.\n",
    "sample_data = data.sample(2*size_private_dataset)"
   ]
  },
  {
   "cell_type": "code",
   "execution_count": 11,
   "id": "f7e56ed1",
   "metadata": {},
   "outputs": [],
   "source": [
    "threat_model = tapas.threat_models.TargetedMIA(\n",
    "    # EXACT KNOWLEDGE OF THE \"REST\" OF THE DATA: auxiliary data is empty.\n",
    "    attacker_knowledge_data=tapas.threat_models.ExactDataKnowledge(sample_data.empty()),\n",
    "    # Assume black-box knowledge\n",
    "    attacker_knowledge_generator=tapas.threat_models.BlackBoxKnowledge(\n",
    "        generator, num_synthetic_records=None,  # Use the input size as output size.\n",
    "    ),\n",
    "    # *All* records are in the data.\n",
    "    target_record=sample_data,\n",
    "    generate_pairs=True,  # So has to have both labels.\n",
    "    replace_target=False,\n",
    ")"
   ]
  },
  {
   "cell_type": "code",
   "execution_count": 12,
   "id": "7d62ee3e",
   "metadata": {},
   "outputs": [],
   "source": [
    "num_train = 100\n",
    "num_test = 100"
   ]
  },
  {
   "cell_type": "code",
   "execution_count": 13,
   "id": "9542a581",
   "metadata": {},
   "outputs": [],
   "source": [
    "# Do all the generation now (it's memoized anyway).\n",
    "# The train and test distributions are the same here, so we only use training samples for simplicity.\n",
    "threat_model.generate_training_samples(num_train + num_test);"
   ]
  },
  {
   "cell_type": "markdown",
   "id": "ec301885",
   "metadata": {},
   "source": [
    "#### Trained kernel\n",
    "\n",
    "We use a fraction of the auxiliary dataset exclusively to fit the kernel. It is then discarded."
   ]
  },
  {
   "cell_type": "markdown",
   "id": "51d6385f",
   "metadata": {},
   "source": [
    "**Option 1**: Choose a random subset of records to use in the kernel."
   ]
  },
  {
   "cell_type": "code",
   "execution_count": 14,
   "id": "fa95beef",
   "metadata": {},
   "outputs": [],
   "source": [
    "kernel_training_data = data.create_subsets(n=1, sample_size = 100, drop_records = True)[0]"
   ]
  },
  {
   "cell_type": "markdown",
   "id": "5a5f8d4c",
   "metadata": {},
   "source": [
    "**Option 2**: Choose the training set (overfitting?)."
   ]
  },
  {
   "cell_type": "code",
   "execution_count": 15,
   "id": "91a65599",
   "metadata": {},
   "outputs": [],
   "source": [
    "# kernel_training_data = sample_data"
   ]
  },
  {
   "cell_type": "code",
   "execution_count": 16,
   "id": "9f92b0a1",
   "metadata": {},
   "outputs": [],
   "source": [
    "kernel.fit(kernel_training_data);"
   ]
  },
  {
   "cell_type": "markdown",
   "id": "749a5953",
   "metadata": {},
   "source": [
    "## Naive Attack\n",
    "\n",
    "We implement a classifier $\\mathcal{C}_\\theta(D,t)$, which we define as $\\mathcal{C}_\\theta = F_\\theta \\circ (k\\circ join, k)$ where $F_\\theta$ is a (trainable) classifier, typically a random forest, $k$ is a (fixed) kernel, and $join$ is the operator grouping the graphs in a dataset $D$ as one large disjointed graph $G_D$."
   ]
  },
  {
   "cell_type": "code",
   "execution_count": 17,
   "id": "1c2ace45",
   "metadata": {},
   "outputs": [],
   "source": [
    "# First, get the synthetic datasets, and compute their kernel.\n",
    "synthetic_datasets,_ = threat_model.generate_training_samples(num_train+num_test)"
   ]
  },
  {
   "cell_type": "markdown",
   "id": "6b972908",
   "metadata": {},
   "source": [
    "**Option 1**: Compute the kernel for the composed graph."
   ]
  },
  {
   "cell_type": "code",
   "execution_count": 18,
   "id": "03711969",
   "metadata": {},
   "outputs": [],
   "source": [
    "# Array of dimension num_graphs x kernel_dim (100).\n",
    "# g = tapas.attacks.ComposedGraphClassifier()\n",
    "# synthetic_features = kernel.kernel.transform(_grak(g._compose_datasets(synthetic_datasets)))"
   ]
  },
  {
   "cell_type": "markdown",
   "id": "279002c1",
   "metadata": {},
   "source": [
    "**Option 2**: Compute the average kernel for the graph."
   ]
  },
  {
   "cell_type": "code",
   "execution_count": 19,
   "id": "04d1e60f",
   "metadata": {},
   "outputs": [],
   "source": [
    "synthetic_features = np.array([\n",
    "    kernel.transform(sd).mean(axis=0) for sd in synthetic_datasets\n",
    "])"
   ]
  },
  {
   "cell_type": "markdown",
   "id": "a63235ef",
   "metadata": {},
   "source": [
    "Next, compute the kernel for each record in the data."
   ]
  },
  {
   "cell_type": "code",
   "execution_count": 20,
   "id": "c63d07e8",
   "metadata": {},
   "outputs": [],
   "source": [
    "# Array of dimension num_targets x kernel_dim.\n",
    "target_features = kernel.transform(sample_data)"
   ]
  },
  {
   "cell_type": "markdown",
   "id": "d69d0642",
   "metadata": {},
   "source": [
    "Construct the feature matrix and corresponding labels."
   ]
  },
  {
   "cell_type": "code",
   "execution_count": 21,
   "id": "eb958982",
   "metadata": {},
   "outputs": [],
   "source": [
    "X = []\n",
    "y = []\n",
    "\n",
    "for target_index, tm in enumerate(threat_model):\n",
    "    _, labels = tm.generate_training_samples(num_train+num_test)\n",
    "    for synth_data_index, _ in enumerate(_):\n",
    "        X.append(\n",
    "            np.concatenate((\n",
    "                synthetic_features[synth_data_index,:],\n",
    "                target_features[target_index,:]\n",
    "            ))\n",
    "        )\n",
    "    y += labels"
   ]
  },
  {
   "cell_type": "code",
   "execution_count": 22,
   "id": "c724cf14",
   "metadata": {},
   "outputs": [],
   "source": [
    "X = np.array(X)\n",
    "y = np.array(y)"
   ]
  },
  {
   "cell_type": "code",
   "execution_count": 23,
   "id": "c97e8e37",
   "metadata": {},
   "outputs": [],
   "source": [
    "split = num_train * len(sample_data)\n",
    "\n",
    "X_train = X[:split,:]\n",
    "X_test = X[split:,:]\n",
    "\n",
    "y_train = y[:split]\n",
    "y_test = y[split:]"
   ]
  },
  {
   "cell_type": "markdown",
   "id": "4b71835d",
   "metadata": {},
   "source": [
    "Choose a classifier, train it (recall that this task is supposed to be trivial, granted that graphs are unique)."
   ]
  },
  {
   "cell_type": "code",
   "execution_count": 24,
   "id": "8f6001d8",
   "metadata": {},
   "outputs": [],
   "source": [
    "from sklearn.linear_model import LogisticRegression\n",
    "from sklearn.ensemble import RandomForestClassifier\n",
    "from sklearn.metrics import roc_curve"
   ]
  },
  {
   "cell_type": "code",
   "execution_count": 25,
   "id": "5e3c1e31",
   "metadata": {},
   "outputs": [],
   "source": [
    "# classifier = LogisticRegression()\n",
    "classifier = RandomForestClassifier()"
   ]
  },
  {
   "cell_type": "code",
   "execution_count": 26,
   "id": "0b402d3c",
   "metadata": {
    "scrolled": true
   },
   "outputs": [
    {
     "data": {
      "text/html": [
       "<style>#sk-container-id-1 {color: black;background-color: white;}#sk-container-id-1 pre{padding: 0;}#sk-container-id-1 div.sk-toggleable {background-color: white;}#sk-container-id-1 label.sk-toggleable__label {cursor: pointer;display: block;width: 100%;margin-bottom: 0;padding: 0.3em;box-sizing: border-box;text-align: center;}#sk-container-id-1 label.sk-toggleable__label-arrow:before {content: \"▸\";float: left;margin-right: 0.25em;color: #696969;}#sk-container-id-1 label.sk-toggleable__label-arrow:hover:before {color: black;}#sk-container-id-1 div.sk-estimator:hover label.sk-toggleable__label-arrow:before {color: black;}#sk-container-id-1 div.sk-toggleable__content {max-height: 0;max-width: 0;overflow: hidden;text-align: left;background-color: #f0f8ff;}#sk-container-id-1 div.sk-toggleable__content pre {margin: 0.2em;color: black;border-radius: 0.25em;background-color: #f0f8ff;}#sk-container-id-1 input.sk-toggleable__control:checked~div.sk-toggleable__content {max-height: 200px;max-width: 100%;overflow: auto;}#sk-container-id-1 input.sk-toggleable__control:checked~label.sk-toggleable__label-arrow:before {content: \"▾\";}#sk-container-id-1 div.sk-estimator input.sk-toggleable__control:checked~label.sk-toggleable__label {background-color: #d4ebff;}#sk-container-id-1 div.sk-label input.sk-toggleable__control:checked~label.sk-toggleable__label {background-color: #d4ebff;}#sk-container-id-1 input.sk-hidden--visually {border: 0;clip: rect(1px 1px 1px 1px);clip: rect(1px, 1px, 1px, 1px);height: 1px;margin: -1px;overflow: hidden;padding: 0;position: absolute;width: 1px;}#sk-container-id-1 div.sk-estimator {font-family: monospace;background-color: #f0f8ff;border: 1px dotted black;border-radius: 0.25em;box-sizing: border-box;margin-bottom: 0.5em;}#sk-container-id-1 div.sk-estimator:hover {background-color: #d4ebff;}#sk-container-id-1 div.sk-parallel-item::after {content: \"\";width: 100%;border-bottom: 1px solid gray;flex-grow: 1;}#sk-container-id-1 div.sk-label:hover label.sk-toggleable__label {background-color: #d4ebff;}#sk-container-id-1 div.sk-serial::before {content: \"\";position: absolute;border-left: 1px solid gray;box-sizing: border-box;top: 0;bottom: 0;left: 50%;z-index: 0;}#sk-container-id-1 div.sk-serial {display: flex;flex-direction: column;align-items: center;background-color: white;padding-right: 0.2em;padding-left: 0.2em;position: relative;}#sk-container-id-1 div.sk-item {position: relative;z-index: 1;}#sk-container-id-1 div.sk-parallel {display: flex;align-items: stretch;justify-content: center;background-color: white;position: relative;}#sk-container-id-1 div.sk-item::before, #sk-container-id-1 div.sk-parallel-item::before {content: \"\";position: absolute;border-left: 1px solid gray;box-sizing: border-box;top: 0;bottom: 0;left: 50%;z-index: -1;}#sk-container-id-1 div.sk-parallel-item {display: flex;flex-direction: column;z-index: 1;position: relative;background-color: white;}#sk-container-id-1 div.sk-parallel-item:first-child::after {align-self: flex-end;width: 50%;}#sk-container-id-1 div.sk-parallel-item:last-child::after {align-self: flex-start;width: 50%;}#sk-container-id-1 div.sk-parallel-item:only-child::after {width: 0;}#sk-container-id-1 div.sk-dashed-wrapped {border: 1px dashed gray;margin: 0 0.4em 0.5em 0.4em;box-sizing: border-box;padding-bottom: 0.4em;background-color: white;}#sk-container-id-1 div.sk-label label {font-family: monospace;font-weight: bold;display: inline-block;line-height: 1.2em;}#sk-container-id-1 div.sk-label-container {text-align: center;}#sk-container-id-1 div.sk-container {/* jupyter's `normalize.less` sets `[hidden] { display: none; }` but bootstrap.min.css set `[hidden] { display: none !important; }` so we also need the `!important` here to be able to override the default hidden behavior on the sphinx rendered scikit-learn.org. See: https://github.com/scikit-learn/scikit-learn/issues/21755 */display: inline-block !important;position: relative;}#sk-container-id-1 div.sk-text-repr-fallback {display: none;}</style><div id=\"sk-container-id-1\" class=\"sk-top-container\"><div class=\"sk-text-repr-fallback\"><pre>RandomForestClassifier()</pre><b>In a Jupyter environment, please rerun this cell to show the HTML representation or trust the notebook. <br />On GitHub, the HTML representation is unable to render, please try loading this page with nbviewer.org.</b></div><div class=\"sk-container\" hidden><div class=\"sk-item\"><div class=\"sk-estimator sk-toggleable\"><input class=\"sk-toggleable__control sk-hidden--visually\" id=\"sk-estimator-id-1\" type=\"checkbox\" checked><label for=\"sk-estimator-id-1\" class=\"sk-toggleable__label sk-toggleable__label-arrow\">RandomForestClassifier</label><div class=\"sk-toggleable__content\"><pre>RandomForestClassifier()</pre></div></div></div></div></div>"
      ],
      "text/plain": [
       "RandomForestClassifier()"
      ]
     },
     "execution_count": 26,
     "metadata": {},
     "output_type": "execute_result"
    }
   ],
   "source": [
    "classifier.fit(X_train, y_train)"
   ]
  },
  {
   "cell_type": "code",
   "execution_count": 27,
   "id": "42f202bc",
   "metadata": {},
   "outputs": [],
   "source": [
    "scores_train = classifier.predict_proba(X_train)[:,1]"
   ]
  },
  {
   "cell_type": "code",
   "execution_count": 28,
   "id": "c850820c",
   "metadata": {},
   "outputs": [],
   "source": [
    "scores_test = classifier.predict_proba(X_test)[:,1]"
   ]
  },
  {
   "cell_type": "code",
   "execution_count": 29,
   "id": "43e64962",
   "metadata": {},
   "outputs": [
    {
     "data": {
      "image/png": "[encoded data removed]",
      "text/plain": [
       "<Figure size 500x500 with 1 Axes>"
      ]
     },
     "metadata": {},
     "output_type": "display_data"
    }
   ],
   "source": [
    "plt.figure(figsize=(5,5))\n",
    "\n",
    "plt.plot([0,1], [0,1], 'k--', alpha=.4)\n",
    "\n",
    "tpr, fpr, _ = roc_curve(y_test, scores_test)\n",
    "plt.plot(tpr, fpr, 'g')\n",
    "\n",
    "tpr, fpr, _ = roc_curve(y_train, scores_train)\n",
    "plt.plot(tpr, fpr, 'b')\n",
    "\n",
    "plt.xlim([-0.01,1])\n",
    "plt.ylim([0,1.01]);"
   ]
  },
  {
   "cell_type": "markdown",
   "id": "ec81a380",
   "metadata": {},
   "source": [
    "### A handmade attack: the scalar product between the features"
   ]
  },
  {
   "cell_type": "code",
   "execution_count": 30,
   "id": "b32ea673",
   "metadata": {},
   "outputs": [],
   "source": [
    "hm_scores = []\n",
    "\n",
    "for target_index, tm in enumerate(threat_model):\n",
    "    _, labels = tm.generate_training_samples(num_train+num_test)\n",
    "    for synth_data_index, _ in enumerate(_):\n",
    "        score = synthetic_features[synth_data_index,:] @ target_features[target_index,:]\n",
    "        hm_scores.append(score)"
   ]
  },
  {
   "cell_type": "code",
   "execution_count": 31,
   "id": "2be09f64",
   "metadata": {},
   "outputs": [
    {
     "data": {
      "image/png": "[encoded data removed]",
      "text/plain": [
       "<Figure size 500x500 with 1 Axes>"
      ]
     },
     "metadata": {},
     "output_type": "display_data"
    }
   ],
   "source": [
    "plt.figure(figsize=(5,5))\n",
    "\n",
    "plt.plot([0,1], [0,1], 'k--', alpha=.4)\n",
    "\n",
    "tpr, fpr, _ = roc_curve(y, hm_scores)\n",
    "plt.plot(tpr, fpr, 'b')\n",
    "\n",
    "plt.xlim([-0.01,1])\n",
    "plt.ylim([0,1.01]);"
   ]
  },
  {
   "cell_type": "markdown",
   "id": "67fde583",
   "metadata": {},
   "source": [
    "### Compare with targeted attack"
   ]
  },
  {
   "cell_type": "code",
   "execution_count": 32,
   "id": "449007a2",
   "metadata": {},
   "outputs": [],
   "source": [
    "class KernelFeature(tapas.attacks.SetFeature):\n",
    "    \"\"\"Extract some features from a graph, using a specific kernel.\"\"\"\n",
    "    \n",
    "    def __init__(self, kernel):\n",
    "        self.kernel = kernel\n",
    "    \n",
    "    def fit(self, tudataset):\n",
    "        \"\"\"Fit the kernel used by this feature using a dataset.\"\"\"\n",
    "        self.kernel.fit(tudataset)\n",
    "    \n",
    "    def extract(self, datasets):\n",
    "        return np.stack([\n",
    "            self.kernel.transform(d).mean(axis=0)\n",
    "            for d in datasets\n",
    "        ])"
   ]
  },
  {
   "cell_type": "code",
   "execution_count": 39,
   "id": "e577d143",
   "metadata": {},
   "outputs": [],
   "source": [
    "attack = tapas.attacks.ShadowModellingAttack(\n",
    "    tapas.attacks.ComposedGraphClassifier(\n",
    "        classifier = RandomForestClassifier(),\n",
    "        # Remove all memoization (this expects a grakel.Kernel).\n",
    "        kernel = kernel.kernel\n",
    "    ),\n",
    "    label = 'ComposedAttack'\n",
    ")"
   ]
  },
  {
   "cell_type": "code",
   "execution_count": 46,
   "id": "ea329e49",
   "metadata": {},
   "outputs": [
    {
     "name": "stderr",
     "output_type": "stream",
     "text": [
      "200it [14:46,  4.43s/it]                                                                   \n"
     ]
    }
   ],
   "source": [
    "num_summaries = 10\n",
    "\n",
    "summaries = []\n",
    "for tm in tqdm.tqdm(threat_model, total=num_summaries):\n",
    "    if len(summaries) >= num_summaries:\n",
    "        continue\n",
    "    attack.train(tm, num_samples=200)\n",
    "    summaries.append(tm.test(attack, num_samples=200))"
   ]
  },
  {
   "cell_type": "code",
   "execution_count": 47,
   "id": "e732bd3d",
   "metadata": {},
   "outputs": [
    {
     "data": {
      "image/png": "[encoded data removed]",
      "text/plain": [
       "<Figure size 500x500 with 1 Axes>"
      ]
     },
     "metadata": {},
     "output_type": "display_data"
    }
   ],
   "source": [
    "plt.figure(figsize=(5,5))\n",
    "\n",
    "plt.plot([0,1], [0,1], 'k--', alpha=.4)\n",
    "\n",
    "for summary in summaries:\n",
    "    tpr, fpr, _ = roc_curve(summary.labels, summary.scores)\n",
    "    plt.plot(tpr, fpr, 'g', alpha=.5)\n",
    "\n",
    "plt.xlim([-0.01,1])\n",
    "plt.ylim([0,1.01]);"
   ]
  }
 ],
 "metadata": {
  "kernelspec": {
   "display_name": "Python 3 (ipykernel)",
   "language": "python",
   "name": "python3"
  },
  "language_info": {
   "codemirror_mode": {
    "name": "ipython",
    "version": 3
   },
   "file_extension": ".py",
   "mimetype": "text/x-python",
   "name": "python",
   "nbconvert_exporter": "python",
   "pygments_lexer": "ipython3",
   "version": "3.10.11"
  }
 },
 "nbformat": 4,
 "nbformat_minor": 5
}
