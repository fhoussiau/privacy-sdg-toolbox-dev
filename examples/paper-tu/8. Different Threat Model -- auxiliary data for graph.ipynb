{
 "cells": [
  {
   "cell_type": "code",
   "execution_count": 1,
   "id": "a979afdb",
   "metadata": {},
   "outputs": [],
   "source": [
    "import numpy as np\n",
    "import matplotlib.pyplot as plt\n",
    "%matplotlib inline\n",
    "\n",
    "import networkx as nx"
   ]
  },
  {
   "cell_type": "code",
   "execution_count": 2,
   "id": "684e1631",
   "metadata": {},
   "outputs": [],
   "source": [
    "n = 10000\n",
    "\n",
    "m = 100\n",
    "\n",
    "underlying_graph = nx.barabasi_albert_graph(n=n, m=m)  # 2% density"
   ]
  },
  {
   "cell_type": "code",
   "execution_count": 66,
   "id": "8cfc11db",
   "metadata": {},
   "outputs": [
    {
     "data": {
      "text/plain": [
       "0"
      ]
     },
     "execution_count": 66,
     "metadata": {},
     "output_type": "execute_result"
    }
   ],
   "source": [
    "# Select a target node. In this case, 0 is the highest degree node.\n",
    "target = 0 # np.random.choice(underlying_graph, size=1)[0]\n",
    "target"
   ]
  },
  {
   "cell_type": "code",
   "execution_count": 67,
   "id": "f7146203",
   "metadata": {},
   "outputs": [
    {
     "data": {
      "text/plain": [
       "1558"
      ]
     },
     "execution_count": 67,
     "metadata": {},
     "output_type": "execute_result"
    }
   ],
   "source": [
    "underlying_graph.degree(target)"
   ]
  },
  {
   "cell_type": "code",
   "execution_count": 68,
   "id": "46fd7206",
   "metadata": {},
   "outputs": [],
   "source": [
    "def create_subgraph(graph, num_nodes, with_target=False):\n",
    "    non_targets = set(graph.nodes) - set([target])\n",
    "    nodes = list(np.random.choice(list(non_targets), size=num_nodes, replace=False))\n",
    "    if with_target:\n",
    "        nodes += [target]\n",
    "    return graph.subgraph(nodes)"
   ]
  },
  {
   "cell_type": "code",
   "execution_count": 69,
   "id": "9f1988d1",
   "metadata": {},
   "outputs": [],
   "source": [
    "# Divide the graph in 2 (train and test).\n",
    "aux_graph = create_subgraph(underlying_graph, len(underlying_graph)//2, with_target=True)\n",
    "\n",
    "test_graph = underlying_graph.subgraph(\n",
    "    (set(underlying_graph.nodes) - set(aux_graph.nodes)) | set([target])\n",
    ")"
   ]
  },
  {
   "cell_type": "code",
   "execution_count": 70,
   "id": "efe54450",
   "metadata": {},
   "outputs": [
    {
     "data": {
      "text/plain": [
       "True"
      ]
     },
     "execution_count": 70,
     "metadata": {},
     "output_type": "execute_result"
    }
   ],
   "source": [
    "target in aux_graph"
   ]
  },
  {
   "cell_type": "code",
   "execution_count": 71,
   "id": "82bcfe90",
   "metadata": {},
   "outputs": [
    {
     "data": {
      "text/plain": [
       "True"
      ]
     },
     "execution_count": 71,
     "metadata": {},
     "output_type": "execute_result"
    }
   ],
   "source": [
    "target in test_graph"
   ]
  },
  {
   "cell_type": "code",
   "execution_count": 72,
   "id": "b6297917",
   "metadata": {},
   "outputs": [],
   "source": [
    "def create_labelled_samples(graph, num_nodes, target_degree = 20, num_samples=1000):\n",
    "    labels = np.random.randint(2, size=(num_samples,))\n",
    "    graphs = []\n",
    "    for l in labels:\n",
    "        g = create_subgraph(graph, num_nodes - l, with_target=l)\n",
    "        graphs.append(g)\n",
    "    return graphs, labels"
   ]
  },
  {
   "cell_type": "code",
   "execution_count": 73,
   "id": "acc9c1ab",
   "metadata": {},
   "outputs": [],
   "source": [
    "private_graph_size = 100\n",
    "target_node_degree = 10"
   ]
  },
  {
   "cell_type": "code",
   "execution_count": 89,
   "id": "04f73e22",
   "metadata": {},
   "outputs": [],
   "source": [
    "X_train, y_train = create_labelled_samples(\n",
    "    aux_graph,\n",
    "    private_graph_size,\n",
    "    target_node_degree,\n",
    "    num_samples = 2000\n",
    ")"
   ]
  },
  {
   "cell_type": "code",
   "execution_count": 90,
   "id": "b4db450f",
   "metadata": {},
   "outputs": [],
   "source": [
    "X_test, y_test = create_labelled_samples(\n",
    "    test_graph,\n",
    "    private_graph_size,\n",
    "    target_node_degree,\n",
    "    num_samples = 2000\n",
    ")"
   ]
  },
  {
   "cell_type": "markdown",
   "id": "4c8ee500",
   "metadata": {},
   "source": [
    "Use a kernel as embedding (bad lol)."
   ]
  },
  {
   "cell_type": "code",
   "execution_count": 91,
   "id": "3ed9a56f",
   "metadata": {},
   "outputs": [],
   "source": [
    "import grakel\n",
    "from grakel.utils import graph_from_networkx\n",
    "\n",
    "def _grak(graphs):\n",
    "    # Add a label to the graphs, for compatibility with grakel.\n",
    "    for G in graphs:\n",
    "        # Relabel the graph nodes (useful for the kernel).\n",
    "        nx.set_node_attributes(G, dict(zip(G.nodes, range(len(G.nodes)))), \"label\")\n",
    "    return graph_from_networkx(graphs, node_labels_tag=\"label\")"
   ]
  },
  {
   "cell_type": "code",
   "execution_count": 92,
   "id": "8195223d",
   "metadata": {},
   "outputs": [],
   "source": [
    "from grakel import WeisfeilerLehman, VertexHistogram\n",
    "kernel = WeisfeilerLehman(n_iter=4, base_graph_kernel=VertexHistogram, normalize=True)"
   ]
  },
  {
   "cell_type": "code",
   "execution_count": 93,
   "id": "dfd9a6c6",
   "metadata": {},
   "outputs": [],
   "source": [
    "kernel_basis = [create_subgraph(aux_graph, private_graph_size) for _ in range(100)]"
   ]
  },
  {
   "cell_type": "code",
   "execution_count": 94,
   "id": "c32fa6c5",
   "metadata": {},
   "outputs": [],
   "source": [
    "kernel.fit(_grak(kernel_basis));"
   ]
  },
  {
   "cell_type": "markdown",
   "id": "c668357d",
   "metadata": {},
   "source": [
    "Extract features."
   ]
  },
  {
   "cell_type": "code",
   "execution_count": 95,
   "id": "4256230c",
   "metadata": {},
   "outputs": [],
   "source": [
    "ft_train = kernel.transform(_grak(X_train))"
   ]
  },
  {
   "cell_type": "code",
   "execution_count": 96,
   "id": "d538e9b2",
   "metadata": {},
   "outputs": [],
   "source": [
    "ft_test = kernel.transform(_grak(X_test))"
   ]
  },
  {
   "cell_type": "markdown",
   "id": "7bb0495e",
   "metadata": {},
   "source": [
    "Train a model."
   ]
  },
  {
   "cell_type": "code",
   "execution_count": 97,
   "id": "304d9820",
   "metadata": {},
   "outputs": [],
   "source": [
    "from sklearn.linear_model import LogisticRegression\n",
    "from sklearn.ensemble import RandomForestClassifier\n",
    "from sklearn.metrics import roc_curve\n",
    "from sklearn.metrics import roc_auc_score"
   ]
  },
  {
   "cell_type": "code",
   "execution_count": 98,
   "id": "31338ade",
   "metadata": {},
   "outputs": [],
   "source": [
    "model = RandomForestClassifier()"
   ]
  },
  {
   "cell_type": "code",
   "execution_count": 99,
   "id": "3592714a",
   "metadata": {
    "scrolled": true
   },
   "outputs": [
    {
     "data": {
      "text/html": [
       "<style>#sk-container-id-4 {color: black;background-color: white;}#sk-container-id-4 pre{padding: 0;}#sk-container-id-4 div.sk-toggleable {background-color: white;}#sk-container-id-4 label.sk-toggleable__label {cursor: pointer;display: block;width: 100%;margin-bottom: 0;padding: 0.3em;box-sizing: border-box;text-align: center;}#sk-container-id-4 label.sk-toggleable__label-arrow:before {content: \"▸\";float: left;margin-right: 0.25em;color: #696969;}#sk-container-id-4 label.sk-toggleable__label-arrow:hover:before {color: black;}#sk-container-id-4 div.sk-estimator:hover label.sk-toggleable__label-arrow:before {color: black;}#sk-container-id-4 div.sk-toggleable__content {max-height: 0;max-width: 0;overflow: hidden;text-align: left;background-color: #f0f8ff;}#sk-container-id-4 div.sk-toggleable__content pre {margin: 0.2em;color: black;border-radius: 0.25em;background-color: #f0f8ff;}#sk-container-id-4 input.sk-toggleable__control:checked~div.sk-toggleable__content {max-height: 200px;max-width: 100%;overflow: auto;}#sk-container-id-4 input.sk-toggleable__control:checked~label.sk-toggleable__label-arrow:before {content: \"▾\";}#sk-container-id-4 div.sk-estimator input.sk-toggleable__control:checked~label.sk-toggleable__label {background-color: #d4ebff;}#sk-container-id-4 div.sk-label input.sk-toggleable__control:checked~label.sk-toggleable__label {background-color: #d4ebff;}#sk-container-id-4 input.sk-hidden--visually {border: 0;clip: rect(1px 1px 1px 1px);clip: rect(1px, 1px, 1px, 1px);height: 1px;margin: -1px;overflow: hidden;padding: 0;position: absolute;width: 1px;}#sk-container-id-4 div.sk-estimator {font-family: monospace;background-color: #f0f8ff;border: 1px dotted black;border-radius: 0.25em;box-sizing: border-box;margin-bottom: 0.5em;}#sk-container-id-4 div.sk-estimator:hover {background-color: #d4ebff;}#sk-container-id-4 div.sk-parallel-item::after {content: \"\";width: 100%;border-bottom: 1px solid gray;flex-grow: 1;}#sk-container-id-4 div.sk-label:hover label.sk-toggleable__label {background-color: #d4ebff;}#sk-container-id-4 div.sk-serial::before {content: \"\";position: absolute;border-left: 1px solid gray;box-sizing: border-box;top: 0;bottom: 0;left: 50%;z-index: 0;}#sk-container-id-4 div.sk-serial {display: flex;flex-direction: column;align-items: center;background-color: white;padding-right: 0.2em;padding-left: 0.2em;position: relative;}#sk-container-id-4 div.sk-item {position: relative;z-index: 1;}#sk-container-id-4 div.sk-parallel {display: flex;align-items: stretch;justify-content: center;background-color: white;position: relative;}#sk-container-id-4 div.sk-item::before, #sk-container-id-4 div.sk-parallel-item::before {content: \"\";position: absolute;border-left: 1px solid gray;box-sizing: border-box;top: 0;bottom: 0;left: 50%;z-index: -1;}#sk-container-id-4 div.sk-parallel-item {display: flex;flex-direction: column;z-index: 1;position: relative;background-color: white;}#sk-container-id-4 div.sk-parallel-item:first-child::after {align-self: flex-end;width: 50%;}#sk-container-id-4 div.sk-parallel-item:last-child::after {align-self: flex-start;width: 50%;}#sk-container-id-4 div.sk-parallel-item:only-child::after {width: 0;}#sk-container-id-4 div.sk-dashed-wrapped {border: 1px dashed gray;margin: 0 0.4em 0.5em 0.4em;box-sizing: border-box;padding-bottom: 0.4em;background-color: white;}#sk-container-id-4 div.sk-label label {font-family: monospace;font-weight: bold;display: inline-block;line-height: 1.2em;}#sk-container-id-4 div.sk-label-container {text-align: center;}#sk-container-id-4 div.sk-container {/* jupyter's `normalize.less` sets `[hidden] { display: none; }` but bootstrap.min.css set `[hidden] { display: none !important; }` so we also need the `!important` here to be able to override the default hidden behavior on the sphinx rendered scikit-learn.org. See: https://github.com/scikit-learn/scikit-learn/issues/21755 */display: inline-block !important;position: relative;}#sk-container-id-4 div.sk-text-repr-fallback {display: none;}</style><div id=\"sk-container-id-4\" class=\"sk-top-container\"><div class=\"sk-text-repr-fallback\"><pre>RandomForestClassifier()</pre><b>In a Jupyter environment, please rerun this cell to show the HTML representation or trust the notebook. <br />On GitHub, the HTML representation is unable to render, please try loading this page with nbviewer.org.</b></div><div class=\"sk-container\" hidden><div class=\"sk-item\"><div class=\"sk-estimator sk-toggleable\"><input class=\"sk-toggleable__control sk-hidden--visually\" id=\"sk-estimator-id-4\" type=\"checkbox\" checked><label for=\"sk-estimator-id-4\" class=\"sk-toggleable__label sk-toggleable__label-arrow\">RandomForestClassifier</label><div class=\"sk-toggleable__content\"><pre>RandomForestClassifier()</pre></div></div></div></div></div>"
      ],
      "text/plain": [
       "RandomForestClassifier()"
      ]
     },
     "execution_count": 99,
     "metadata": {},
     "output_type": "execute_result"
    }
   ],
   "source": [
    "model.fit(ft_train, y_train)"
   ]
  },
  {
   "cell_type": "code",
   "execution_count": 100,
   "id": "cdf81096",
   "metadata": {},
   "outputs": [],
   "source": [
    "train_scores = model.predict_proba(ft_train)[:,1]"
   ]
  },
  {
   "cell_type": "code",
   "execution_count": 101,
   "id": "91f17b48",
   "metadata": {},
   "outputs": [],
   "source": [
    "test_scores = model.predict_proba(ft_test)[:,1]"
   ]
  },
  {
   "cell_type": "markdown",
   "id": "69e48516",
   "metadata": {},
   "source": [
    "Plot the ROC curves."
   ]
  },
  {
   "cell_type": "code",
   "execution_count": 102,
   "id": "27d1ced6",
   "metadata": {},
   "outputs": [
    {
     "data": {
      "image/png": "[encoded data removed]",
      "text/plain": [
       "<Figure size 500x500 with 1 Axes>"
      ]
     },
     "metadata": {},
     "output_type": "display_data"
    }
   ],
   "source": [
    "plt.figure(figsize=(5,5))\n",
    "plt.plot([0,1], [0,1], 'k--', alpha=.4)\n",
    "\n",
    "# Training accuracy!\n",
    "tpr, fpr, _ = roc_curve(y_train, train_scores)\n",
    "plt.plot(tpr, fpr, 'b')\n",
    "\n",
    "# Test accuracy on a disjoint set.\n",
    "tpr, fpr, _ = roc_curve(y_test, test_scores)\n",
    "plt.plot(tpr, fpr, 'g')\n",
    "\n",
    "plt.xlim([-0.01,1])\n",
    "plt.ylim([0,1.01]);"
   ]
  },
  {
   "cell_type": "markdown",
   "id": "c38d581c",
   "metadata": {},
   "source": [
    "Can we also do this for the untargeted attack?"
   ]
  },
  {
   "cell_type": "code",
   "execution_count": 103,
   "id": "9d9ef676",
   "metadata": {},
   "outputs": [],
   "source": [
    "def create_generic_samples(graph, num_nodes, num_samples=1000):\n",
    "    graphs = []\n",
    "    positives = []\n",
    "    negatives = []\n",
    "    for _ in range(num_samples):\n",
    "        all_nodes = np.random.choice(list(graph.nodes), size=2*num_nodes, replace=False)\n",
    "        graphs.append(graph.subgraph(all_nodes[:num_nodes]))\n",
    "        positives.append(all_nodes[:num_nodes])\n",
    "        negatives.append(all_nodes[num_nodes:])\n",
    "    return graphs, positives, negatives"
   ]
  },
  {
   "cell_type": "code",
   "execution_count": 104,
   "id": "5a141639",
   "metadata": {},
   "outputs": [],
   "source": [
    "def get_khop_neighborhood(graph, node, k=2):\n",
    "#     return nx.ego_graph(graph, node, radius=1)\n",
    "    nodes = [node] + list(graph.neighbors(node))\n",
    "    return graph.subgraph(nodes)"
   ]
  },
  {
   "cell_type": "code",
   "execution_count": 105,
   "id": "67e438ed",
   "metadata": {},
   "outputs": [],
   "source": [
    "def create_features_generic_samples_naive(graph, num_nodes, num_samples=1000, ft=get_khop_neighborhood):\n",
    "    X, y = [], []\n",
    "    for synthetic, positive, negative in zip(*create_generic_samples(graph, num_nodes, num_samples)):\n",
    "        print('=', end='')\n",
    "        kernel.fit(_grak([synthetic]))\n",
    "        subgraphs = [ft(graph, n) for n in list(positive) + list(negative)]\n",
    "        X.append(kernel.transform(_grak(subgraphs)))\n",
    "        y += [True] * len(positive) + [False] * len(negative)\n",
    "    return np.concatenate(X, axis=0), y"
   ]
  },
  {
   "cell_type": "code",
   "execution_count": 106,
   "id": "1552cd69",
   "metadata": {},
   "outputs": [],
   "source": [
    "def create_features_generic_samples(graph, num_nodes, num_samples=1000, ft=get_khop_neighborhood):\n",
    "    X, y = [], []\n",
    "    for synthetic, positive, negative in zip(*create_generic_samples(graph, num_nodes, num_samples)):\n",
    "        print('=', end='')\n",
    "        graph_ft = kernel.transform(_grak([synthetic]))\n",
    "        subgraphs = [ft(graph, n) for n in list(positive) + list(negative)]\n",
    "        records_ft = kernel.transform(_grak(subgraphs))\n",
    "        X.append(\n",
    "            np.concatenate(\n",
    "                (\n",
    "                    np.tile(graph_ft, (len(positive)+len(negative), 1)),\n",
    "                    records_ft\n",
    "                ), axis=1))\n",
    "        y += [True] * len(positive) + [False] * len(negative)\n",
    "    return np.concatenate(X, axis=0), y"
   ]
  },
  {
   "cell_type": "code",
   "execution_count": 107,
   "id": "bc7ab243",
   "metadata": {},
   "outputs": [
    {
     "name": "stdout",
     "output_type": "stream",
     "text": [
      "=========="
     ]
    }
   ],
   "source": [
    "X_train, y_train = create_features_generic_samples(aux_graph, 100, 10)"
   ]
  },
  {
   "cell_type": "code",
   "execution_count": 108,
   "id": "a9688fbd",
   "metadata": {},
   "outputs": [
    {
     "data": {
      "text/plain": [
       "(2000, 200)"
      ]
     },
     "execution_count": 108,
     "metadata": {},
     "output_type": "execute_result"
    }
   ],
   "source": [
    "X_train.shape"
   ]
  },
  {
   "cell_type": "code",
   "execution_count": 109,
   "id": "bc4d6330",
   "metadata": {},
   "outputs": [
    {
     "name": "stdout",
     "output_type": "stream",
     "text": [
      "=========="
     ]
    }
   ],
   "source": [
    "X_holdout, y_holdout = create_features_generic_samples(aux_graph, 100, 10)"
   ]
  },
  {
   "cell_type": "code",
   "execution_count": 110,
   "id": "787b9bf1",
   "metadata": {},
   "outputs": [
    {
     "name": "stdout",
     "output_type": "stream",
     "text": [
      "=========="
     ]
    }
   ],
   "source": [
    "X_test, y_test = create_features_generic_samples(test_graph, 100, 10)"
   ]
  },
  {
   "cell_type": "code",
   "execution_count": 111,
   "id": "9cdb88c2",
   "metadata": {},
   "outputs": [],
   "source": [
    "model = RandomForestClassifier()"
   ]
  },
  {
   "cell_type": "code",
   "execution_count": 112,
   "id": "6c717681",
   "metadata": {
    "scrolled": true
   },
   "outputs": [
    {
     "data": {
      "text/html": [
       "<style>#sk-container-id-5 {color: black;background-color: white;}#sk-container-id-5 pre{padding: 0;}#sk-container-id-5 div.sk-toggleable {background-color: white;}#sk-container-id-5 label.sk-toggleable__label {cursor: pointer;display: block;width: 100%;margin-bottom: 0;padding: 0.3em;box-sizing: border-box;text-align: center;}#sk-container-id-5 label.sk-toggleable__label-arrow:before {content: \"▸\";float: left;margin-right: 0.25em;color: #696969;}#sk-container-id-5 label.sk-toggleable__label-arrow:hover:before {color: black;}#sk-container-id-5 div.sk-estimator:hover label.sk-toggleable__label-arrow:before {color: black;}#sk-container-id-5 div.sk-toggleable__content {max-height: 0;max-width: 0;overflow: hidden;text-align: left;background-color: #f0f8ff;}#sk-container-id-5 div.sk-toggleable__content pre {margin: 0.2em;color: black;border-radius: 0.25em;background-color: #f0f8ff;}#sk-container-id-5 input.sk-toggleable__control:checked~div.sk-toggleable__content {max-height: 200px;max-width: 100%;overflow: auto;}#sk-container-id-5 input.sk-toggleable__control:checked~label.sk-toggleable__label-arrow:before {content: \"▾\";}#sk-container-id-5 div.sk-estimator input.sk-toggleable__control:checked~label.sk-toggleable__label {background-color: #d4ebff;}#sk-container-id-5 div.sk-label input.sk-toggleable__control:checked~label.sk-toggleable__label {background-color: #d4ebff;}#sk-container-id-5 input.sk-hidden--visually {border: 0;clip: rect(1px 1px 1px 1px);clip: rect(1px, 1px, 1px, 1px);height: 1px;margin: -1px;overflow: hidden;padding: 0;position: absolute;width: 1px;}#sk-container-id-5 div.sk-estimator {font-family: monospace;background-color: #f0f8ff;border: 1px dotted black;border-radius: 0.25em;box-sizing: border-box;margin-bottom: 0.5em;}#sk-container-id-5 div.sk-estimator:hover {background-color: #d4ebff;}#sk-container-id-5 div.sk-parallel-item::after {content: \"\";width: 100%;border-bottom: 1px solid gray;flex-grow: 1;}#sk-container-id-5 div.sk-label:hover label.sk-toggleable__label {background-color: #d4ebff;}#sk-container-id-5 div.sk-serial::before {content: \"\";position: absolute;border-left: 1px solid gray;box-sizing: border-box;top: 0;bottom: 0;left: 50%;z-index: 0;}#sk-container-id-5 div.sk-serial {display: flex;flex-direction: column;align-items: center;background-color: white;padding-right: 0.2em;padding-left: 0.2em;position: relative;}#sk-container-id-5 div.sk-item {position: relative;z-index: 1;}#sk-container-id-5 div.sk-parallel {display: flex;align-items: stretch;justify-content: center;background-color: white;position: relative;}#sk-container-id-5 div.sk-item::before, #sk-container-id-5 div.sk-parallel-item::before {content: \"\";position: absolute;border-left: 1px solid gray;box-sizing: border-box;top: 0;bottom: 0;left: 50%;z-index: -1;}#sk-container-id-5 div.sk-parallel-item {display: flex;flex-direction: column;z-index: 1;position: relative;background-color: white;}#sk-container-id-5 div.sk-parallel-item:first-child::after {align-self: flex-end;width: 50%;}#sk-container-id-5 div.sk-parallel-item:last-child::after {align-self: flex-start;width: 50%;}#sk-container-id-5 div.sk-parallel-item:only-child::after {width: 0;}#sk-container-id-5 div.sk-dashed-wrapped {border: 1px dashed gray;margin: 0 0.4em 0.5em 0.4em;box-sizing: border-box;padding-bottom: 0.4em;background-color: white;}#sk-container-id-5 div.sk-label label {font-family: monospace;font-weight: bold;display: inline-block;line-height: 1.2em;}#sk-container-id-5 div.sk-label-container {text-align: center;}#sk-container-id-5 div.sk-container {/* jupyter's `normalize.less` sets `[hidden] { display: none; }` but bootstrap.min.css set `[hidden] { display: none !important; }` so we also need the `!important` here to be able to override the default hidden behavior on the sphinx rendered scikit-learn.org. See: https://github.com/scikit-learn/scikit-learn/issues/21755 */display: inline-block !important;position: relative;}#sk-container-id-5 div.sk-text-repr-fallback {display: none;}</style><div id=\"sk-container-id-5\" class=\"sk-top-container\"><div class=\"sk-text-repr-fallback\"><pre>RandomForestClassifier()</pre><b>In a Jupyter environment, please rerun this cell to show the HTML representation or trust the notebook. <br />On GitHub, the HTML representation is unable to render, please try loading this page with nbviewer.org.</b></div><div class=\"sk-container\" hidden><div class=\"sk-item\"><div class=\"sk-estimator sk-toggleable\"><input class=\"sk-toggleable__control sk-hidden--visually\" id=\"sk-estimator-id-5\" type=\"checkbox\" checked><label for=\"sk-estimator-id-5\" class=\"sk-toggleable__label sk-toggleable__label-arrow\">RandomForestClassifier</label><div class=\"sk-toggleable__content\"><pre>RandomForestClassifier()</pre></div></div></div></div></div>"
      ],
      "text/plain": [
       "RandomForestClassifier()"
      ]
     },
     "execution_count": 112,
     "metadata": {},
     "output_type": "execute_result"
    }
   ],
   "source": [
    "model.fit(X_train, y_train)"
   ]
  },
  {
   "cell_type": "code",
   "execution_count": 113,
   "id": "b6a13762",
   "metadata": {},
   "outputs": [],
   "source": [
    "train_scores = model.predict_proba(X_train)[:,1]"
   ]
  },
  {
   "cell_type": "code",
   "execution_count": 114,
   "id": "f4f26799",
   "metadata": {},
   "outputs": [],
   "source": [
    "holdout_scores = model.predict_proba(X_holdout)[:,1]"
   ]
  },
  {
   "cell_type": "code",
   "execution_count": 115,
   "id": "b79ecdec",
   "metadata": {},
   "outputs": [],
   "source": [
    "test_scores = model.predict_proba(X_test)[:,1]"
   ]
  },
  {
   "cell_type": "code",
   "execution_count": 116,
   "id": "8e442dde",
   "metadata": {},
   "outputs": [
    {
     "data": {
      "image/png": "[encoded data removed]",
      "text/plain": [
       "<Figure size 500x500 with 1 Axes>"
      ]
     },
     "metadata": {},
     "output_type": "display_data"
    }
   ],
   "source": [
    "plt.figure(figsize=(5,5))\n",
    "plt.plot([0,1], [0,1], 'k--', alpha=.4)\n",
    "\n",
    "# Training accuracy!\n",
    "tpr, fpr, _ = roc_curve(y_train, train_scores)\n",
    "plt.plot(tpr, fpr, 'b')\n",
    "\n",
    "# Holdout accuracy!\n",
    "tpr, fpr, _ = roc_curve(y_holdout, holdout_scores)\n",
    "plt.plot(tpr, fpr, 'r')\n",
    "\n",
    "# Test accuracy on a disjoint set.\n",
    "tpr, fpr, _ = roc_curve(y_test, test_scores)\n",
    "plt.plot(tpr, fpr, 'g')\n",
    "\n",
    "plt.xlim([-0.01,1])\n",
    "plt.ylim([0,1.01]);"
   ]
  }
 ],
 "metadata": {
  "kernelspec": {
   "display_name": "Python 3 (ipykernel)",
   "language": "python",
   "name": "python3"
  },
  "language_info": {
   "codemirror_mode": {
    "name": "ipython",
    "version": 3
   },
   "file_extension": ".py",
   "mimetype": "text/x-python",
   "name": "python",
   "nbconvert_exporter": "python",
   "pygments_lexer": "ipython3",
   "version": "3.10.11"
  }
 },
 "nbformat": 4,
 "nbformat_minor": 5
}
