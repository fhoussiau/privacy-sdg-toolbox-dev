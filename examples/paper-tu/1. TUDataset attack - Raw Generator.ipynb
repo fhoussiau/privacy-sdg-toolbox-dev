{
 "cells": [
  {
   "cell_type": "markdown",
   "id": "15df033e",
   "metadata": {},
   "source": [
    "In this notebook, we evaluate the possibility of using graph kernel attacks against TUDatasets. We focus on datasets with privacy applications."
   ]
  },
  {
   "cell_type": "code",
   "execution_count": 2,
   "id": "a4183aac",
   "metadata": {},
   "outputs": [],
   "source": [
    "import numpy as np\n",
    "import matplotlib.pyplot as plt\n",
    "%matplotlib inline\n",
    "\n",
    "import tapas.datasets\n",
    "import tapas.generators\n",
    "import tapas.threat_models\n",
    "import tapas.attacks"
   ]
  },
  {
   "cell_type": "code",
   "execution_count": 3,
   "id": "bc641e1d",
   "metadata": {},
   "outputs": [],
   "source": [
    "np.random.seed(13121)"
   ]
  },
  {
   "cell_type": "markdown",
   "id": "c37b1d1b",
   "metadata": {},
   "source": [
    "## Real-world private datasets\n",
    "\n",
    "The COLLAB dataset contains collaboration networks of academics. They are ego networks for these academics."
   ]
  },
  {
   "cell_type": "code",
   "execution_count": 4,
   "id": "a782108f",
   "metadata": {},
   "outputs": [],
   "source": [
    "# If you have not yet downloaded the dataset:\n",
    "# data = tapas.datasets.TUDataset.download_and_read(\"COLLAB\")\n",
    "\n",
    "# Otherwise:\n",
    "# data = tapas.datasets.TUDataset.read(\"COLLAB\", \"COLLAB\")"
   ]
  },
  {
   "cell_type": "code",
   "execution_count": 5,
   "id": "c51f8d93",
   "metadata": {},
   "outputs": [
    {
     "name": "stdout",
     "output_type": "stream",
     "text": [
      "Loading TU graph dataset: deezer_ego_nets\n"
     ]
    }
   ],
   "source": [
    "data = tapas.datasets.TUDataset.read(\"deezer_ego_nets\", \"deezer_ego_nets\")"
   ]
  },
  {
   "cell_type": "code",
   "execution_count": 40,
   "id": "2b396338",
   "metadata": {},
   "outputs": [
    {
     "data": {
      "image/png": "[encoded data removed]",
      "text/plain": [
       "<Figure size 640x480 with 1 Axes>"
      ]
     },
     "metadata": {},
     "output_type": "display_data"
    }
   ],
   "source": [
    "plt.hist([len(g.nodes()) for g in data.data], 50)\n",
    "plt.yscale('log')"
   ]
  },
  {
   "cell_type": "markdown",
   "id": "3b6f0e73",
   "metadata": {},
   "source": [
    "## Memoized kernels\n",
    "\n",
    "In our attacks, the main blocker is that kernels are computed many times over the same graph, leading to massive performance overheads. Memoization is the key here.\n",
    "\n",
    "Importantly, we do not check whether graphs are identical, but merely whether they are stored in the same location in memory.\n",
    "\n",
    "We also use this class to provide a clean interface between grakel kernels and networkx data."
   ]
  },
  {
   "cell_type": "code",
   "execution_count": 5,
   "id": "b762f99c",
   "metadata": {},
   "outputs": [],
   "source": [
    "import networkx as nx\n",
    "from grakel.utils import graph_from_networkx\n",
    "\n",
    "def _grak(graphs):\n",
    "    # Add a label to the graphs, for compatibility with grakel.\n",
    "    for G in graphs:\n",
    "        # Relabel the graph nodes (useful for the kernel).\n",
    "        nx.set_node_attributes(G, dict(zip(G.nodes, range(len(G.nodes)))), \"label\")\n",
    "    return graph_from_networkx(graphs, node_labels_tag=\"label\")"
   ]
  },
  {
   "cell_type": "code",
   "execution_count": 6,
   "id": "a5e7b43c",
   "metadata": {},
   "outputs": [],
   "source": [
    "class Memoize:\n",
    "    def __init__(self, kernel):\n",
    "        self.kernel = kernel\n",
    "        self.memory = {}\n",
    "    \n",
    "    def fit(self, tudataset):\n",
    "        self.memory = {}  # Fitting the kernel resets the memory.\n",
    "        self.kernel.fit(_grak(tudataset.data))\n",
    "\n",
    "    def transform(self, tudataset):\n",
    "        # Use G for the key, and grak(G) for the feature transformation.\n",
    "        for G in tudataset.data:\n",
    "            if G not in self.memory:\n",
    "                self.memory[G] = self.kernel.transform(_grak([G]))[0]\n",
    "        return np.stack([self.memory[G] for G in tudataset.data])\n",
    "\n",
    "    def fit_transform(self, tudataset):        \n",
    "        self.fit(tudataset)\n",
    "        return self.transform(tudataset)"
   ]
  },
  {
   "cell_type": "markdown",
   "id": "e2a24f5e",
   "metadata": {},
   "source": [
    "We now instantiate a typical kernel."
   ]
  },
  {
   "cell_type": "code",
   "execution_count": 7,
   "id": "f524eac2",
   "metadata": {},
   "outputs": [],
   "source": [
    "from grakel import WeisfeilerLehman, VertexHistogram\n",
    "\n",
    "# TODO: find a better kernel -- vertex histogram is silly here, since there is very little (no?) overlap.\n",
    "# We address this by relabelling nodes to 1..num_nodes.\n",
    "kernel = Memoize(WeisfeilerLehman(n_iter=4, base_graph_kernel=VertexHistogram, normalize=True))"
   ]
  },
  {
   "cell_type": "markdown",
   "id": "91056b3c",
   "metadata": {},
   "source": [
    "## Threat modelling (typical TAPAS)"
   ]
  },
  {
   "cell_type": "markdown",
   "id": "ffdb9988",
   "metadata": {},
   "source": [
    "We attack the Raw generator, for simplicity. This should be trivially attackable!"
   ]
  },
  {
   "cell_type": "code",
   "execution_count": 8,
   "id": "25a8ab6e",
   "metadata": {},
   "outputs": [],
   "source": [
    "generator = tapas.generators.Raw()"
   ]
  },
  {
   "cell_type": "markdown",
   "id": "013ef0fc",
   "metadata": {},
   "source": [
    "We select arbitrary target(s) in the dataset."
   ]
  },
  {
   "cell_type": "code",
   "execution_count": 9,
   "id": "dc886fb2",
   "metadata": {},
   "outputs": [],
   "source": [
    "target_indices = [0]\n",
    "\n",
    "target_records = data.get_records(target_indices)\n",
    "data.drop_records(target_indices, in_place=True)"
   ]
  },
  {
   "cell_type": "markdown",
   "id": "ca8b5d2b",
   "metadata": {},
   "source": [
    "We choose the auxiliary dataset setup (the attacker has access to a large number of real records disjoint from the real dataset)."
   ]
  },
  {
   "cell_type": "code",
   "execution_count": 10,
   "id": "0dc0e09c",
   "metadata": {},
   "outputs": [],
   "source": [
    "size_private_dataset = 100\n",
    "size_synthetic_dataset = 100\n",
    "train_test_split = 0.5"
   ]
  },
  {
   "cell_type": "code",
   "execution_count": 11,
   "id": "83dae2b8",
   "metadata": {},
   "outputs": [],
   "source": [
    "threat_model = tapas.threat_models.TargetedMIA(\n",
    "    attacker_knowledge_data = tapas.threat_models.AuxiliaryDataKnowledge(\n",
    "        data, auxiliary_split=train_test_split, num_training_records=size_private_dataset,\n",
    "    ),\n",
    "    target_record = target_records,\n",
    "    attacker_knowledge_generator=tapas.threat_models.BlackBoxKnowledge(\n",
    "        generator, num_synthetic_records=size_synthetic_dataset,\n",
    "    ),\n",
    "    generate_pairs=False,\n",
    "    replace_target=True,\n",
    ")"
   ]
  },
  {
   "cell_type": "markdown",
   "id": "bffb2489",
   "metadata": {},
   "source": [
    "## Attacks\n",
    "\n",
    "We first define a few items that will be useful for attacking graphs."
   ]
  },
  {
   "cell_type": "code",
   "execution_count": 12,
   "id": "6801db7a",
   "metadata": {},
   "outputs": [],
   "source": [
    "class KernelFeature(tapas.attacks.SetFeature):\n",
    "    \"\"\"Extract some features from a graph, using a specific kernel.\"\"\"\n",
    "    \n",
    "    def __init__(self, kernel):\n",
    "        self.kernel = kernel\n",
    "    \n",
    "    def fit(self, tudataset):\n",
    "        \"\"\"Fit the kernel used by this feature using a dataset.\"\"\"\n",
    "        self.kernel.fit(tudataset)\n",
    "    \n",
    "    def extract(self, datasets):\n",
    "        return np.stack([\n",
    "            self.kernel.transform(d).mean(axis=0)\n",
    "            for d in datasets\n",
    "        ])"
   ]
  },
  {
   "cell_type": "code",
   "execution_count": 13,
   "id": "a4f8a4f6",
   "metadata": {},
   "outputs": [],
   "source": [
    "class KernelBasedDistance(tapas.attacks.DistanceMetric):\n",
    "    \"\"\"L2 distance between the kernels of two graphs.\"\"\"\n",
    "\n",
    "    def __init__(self, kernel):\n",
    "        self.kernel = kernel\n",
    "        self._label = 'KernelBasedDistance'\n",
    "\n",
    "    def fit(self, tudataset):\n",
    "        \"\"\"Fit the kernel used by this feature using a dataset.\"\"\"\n",
    "        self.kernel.fit(tudataset)\n",
    "\n",
    "    def __call__(self, x, y):\n",
    "        # Compute the distance matrix between two TUDatasets.\n",
    "        ft_x = self.kernel.transform(x)\n",
    "        ft_y = self.kernel.transform(y)\n",
    "        dists = np.zeros((len(x), len(y)))\n",
    "        for i, x1 in enumerate(ft_x):\n",
    "            for j, x2 in enumerate(ft_y):\n",
    "                dists[i,j] = np.linalg.norm(x1 - x2)\n",
    "        return dists"
   ]
  },
  {
   "cell_type": "markdown",
   "id": "b191623a",
   "metadata": {},
   "source": [
    "#### Trained kernel\n",
    "\n",
    "We use a fraction of the auxiliary dataset exclusively to fit the kernel. It is then discarded."
   ]
  },
  {
   "cell_type": "code",
   "execution_count": 14,
   "id": "35e4c401",
   "metadata": {},
   "outputs": [],
   "source": [
    "# A bit wordy, but we can extract the auxiliary data of the attacker as:\n",
    "auxiliary_data = threat_model.atk_know_data.attacker_knowledge.aux_data\n",
    "\n",
    "# We select a number of these graphs (200, for fun) which are dropped from the dataset.\n",
    "# These records will be used exclusively to train the kernel.\n",
    "kernel_training_data = auxiliary_data.create_subsets(n=1, sample_size = 200, drop_records=True)[0]"
   ]
  },
  {
   "cell_type": "code",
   "execution_count": 15,
   "id": "ebfb7478",
   "metadata": {},
   "outputs": [],
   "source": [
    "kernel.fit(kernel_training_data);"
   ]
  },
  {
   "cell_type": "markdown",
   "id": "2f204fee",
   "metadata": {},
   "source": [
    "Pre-compute graph kernels (for fast computations)!"
   ]
  },
  {
   "cell_type": "code",
   "execution_count": 16,
   "id": "1b43f323",
   "metadata": {},
   "outputs": [],
   "source": [
    "kernel.transform(data);"
   ]
  },
  {
   "cell_type": "markdown",
   "id": "5df3ab2b",
   "metadata": {},
   "source": [
    "### Distance-based attack"
   ]
  },
  {
   "cell_type": "code",
   "execution_count": 17,
   "id": "8a55f788",
   "metadata": {},
   "outputs": [],
   "source": [
    "dist = KernelBasedDistance(kernel)"
   ]
  },
  {
   "cell_type": "code",
   "execution_count": 18,
   "id": "3872c321",
   "metadata": {},
   "outputs": [],
   "source": [
    "attack = tapas.attacks.ClosestDistanceMIA(distance = dist, criterion = \"accuracy\")"
   ]
  },
  {
   "cell_type": "code",
   "execution_count": 19,
   "id": "da761aff",
   "metadata": {},
   "outputs": [],
   "source": [
    "# Training selects a threshold for the attack.\n",
    "attack.train(threat_model, num_samples=100)"
   ]
  },
  {
   "cell_type": "code",
   "execution_count": 20,
   "id": "9613254e",
   "metadata": {},
   "outputs": [],
   "source": [
    "summary = threat_model.test(attack, num_samples=100)"
   ]
  },
  {
   "cell_type": "code",
   "execution_count": 21,
   "id": "412799fb",
   "metadata": {},
   "outputs": [
    {
     "data": {
      "text/html": [
       "<div>\n",
       "<style scoped>\n",
       "    .dataframe tbody tr th:only-of-type {\n",
       "        vertical-align: middle;\n",
       "    }\n",
       "\n",
       "    .dataframe tbody tr th {\n",
       "        vertical-align: top;\n",
       "    }\n",
       "\n",
       "    .dataframe thead th {\n",
       "        text-align: right;\n",
       "    }\n",
       "</style>\n",
       "<table border=\"1\" class=\"dataframe\">\n",
       "  <thead>\n",
       "    <tr style=\"text-align: right;\">\n",
       "      <th></th>\n",
       "      <th>dataset</th>\n",
       "      <th>target_id</th>\n",
       "      <th>generator</th>\n",
       "      <th>attack</th>\n",
       "      <th>accuracy</th>\n",
       "      <th>true_positive_rate</th>\n",
       "      <th>false_positive_rate</th>\n",
       "      <th>mia_advantage</th>\n",
       "      <th>privacy_gain</th>\n",
       "      <th>auc</th>\n",
       "      <th>effective_epsilon</th>\n",
       "    </tr>\n",
       "  </thead>\n",
       "  <tbody>\n",
       "    <tr>\n",
       "      <th>0</th>\n",
       "      <td>deezer_ego_nets (AUX)</td>\n",
       "      <td>0</td>\n",
       "      <td>Raw</td>\n",
       "      <td>ClosestDistance(KernelBasedDistance, accuracy)</td>\n",
       "      <td>1.0</td>\n",
       "      <td>1.0</td>\n",
       "      <td>0.0</td>\n",
       "      <td>1.0</td>\n",
       "      <td>0.0</td>\n",
       "      <td>1.0</td>\n",
       "      <td>inf</td>\n",
       "    </tr>\n",
       "  </tbody>\n",
       "</table>\n",
       "</div>"
      ],
      "text/plain": [
       "                 dataset target_id generator  \\\n",
       "0  deezer_ego_nets (AUX)         0       Raw   \n",
       "\n",
       "                                           attack  accuracy  \\\n",
       "0  ClosestDistance(KernelBasedDistance, accuracy)       1.0   \n",
       "\n",
       "   true_positive_rate  false_positive_rate  mia_advantage  privacy_gain  auc  \\\n",
       "0                 1.0                  0.0            1.0           0.0  1.0   \n",
       "\n",
       "   effective_epsilon  \n",
       "0                inf  "
      ]
     },
     "execution_count": 21,
     "metadata": {},
     "output_type": "execute_result"
    }
   ],
   "source": [
    "summary.get_metrics()"
   ]
  },
  {
   "cell_type": "markdown",
   "id": "60290fef",
   "metadata": {},
   "source": [
    "As expected for the RAW generator, this attack achieves 100% accuracy (since there is a record within distance $0$ if and only if the target is in the dataset)."
   ]
  },
  {
   "cell_type": "markdown",
   "id": "468f159e",
   "metadata": {},
   "source": [
    "### Shadow-modelling attack"
   ]
  },
  {
   "cell_type": "code",
   "execution_count": 22,
   "id": "4a48ada6",
   "metadata": {},
   "outputs": [],
   "source": [
    "from sklearn.linear_model import LogisticRegression\n",
    "from sklearn.ensemble import RandomForestClassifier\n",
    "from sklearn.metrics import roc_curve"
   ]
  },
  {
   "cell_type": "code",
   "execution_count": 23,
   "id": "bb2fa13a",
   "metadata": {},
   "outputs": [],
   "source": [
    "attack = tapas.attacks.ShadowModellingAttack(\n",
    "    tapas.attacks.FeatureBasedSetClassifier(\n",
    "        features = KernelFeature(kernel),\n",
    "        classifier = RandomForestClassifier(),\n",
    "    )\n",
    ")"
   ]
  },
  {
   "cell_type": "markdown",
   "id": "8e58df6f",
   "metadata": {},
   "source": [
    "We first train with a small number of records. It actually works kind of well!"
   ]
  },
  {
   "cell_type": "code",
   "execution_count": 24,
   "id": "dcc450fd",
   "metadata": {},
   "outputs": [],
   "source": [
    "# This involves feature extraction and training a model.\n",
    "attack.train(threat_model, num_samples=100)"
   ]
  },
  {
   "cell_type": "code",
   "execution_count": 25,
   "id": "16a806b3",
   "metadata": {},
   "outputs": [],
   "source": [
    "summary = threat_model.test(attack, num_samples=1000)"
   ]
  },
  {
   "cell_type": "code",
   "execution_count": 26,
   "id": "27b82220",
   "metadata": {},
   "outputs": [
    {
     "data": {
      "text/html": [
       "<div>\n",
       "<style scoped>\n",
       "    .dataframe tbody tr th:only-of-type {\n",
       "        vertical-align: middle;\n",
       "    }\n",
       "\n",
       "    .dataframe tbody tr th {\n",
       "        vertical-align: top;\n",
       "    }\n",
       "\n",
       "    .dataframe thead th {\n",
       "        text-align: right;\n",
       "    }\n",
       "</style>\n",
       "<table border=\"1\" class=\"dataframe\">\n",
       "  <thead>\n",
       "    <tr style=\"text-align: right;\">\n",
       "      <th></th>\n",
       "      <th>dataset</th>\n",
       "      <th>target_id</th>\n",
       "      <th>generator</th>\n",
       "      <th>attack</th>\n",
       "      <th>accuracy</th>\n",
       "      <th>true_positive_rate</th>\n",
       "      <th>false_positive_rate</th>\n",
       "      <th>mia_advantage</th>\n",
       "      <th>privacy_gain</th>\n",
       "      <th>auc</th>\n",
       "      <th>effective_epsilon</th>\n",
       "    </tr>\n",
       "  </thead>\n",
       "  <tbody>\n",
       "    <tr>\n",
       "      <th>0</th>\n",
       "      <td>deezer_ego_nets (AUX)</td>\n",
       "      <td>0</td>\n",
       "      <td>Raw</td>\n",
       "      <td>ShadowModelling(Classifier(Unknown SetFeature,...</td>\n",
       "      <td>0.638</td>\n",
       "      <td>0.50303</td>\n",
       "      <td>0.229703</td>\n",
       "      <td>0.273327</td>\n",
       "      <td>0.726673</td>\n",
       "      <td>0.659534</td>\n",
       "      <td>1.925909</td>\n",
       "    </tr>\n",
       "  </tbody>\n",
       "</table>\n",
       "</div>"
      ],
      "text/plain": [
       "                 dataset target_id generator  \\\n",
       "0  deezer_ego_nets (AUX)         0       Raw   \n",
       "\n",
       "                                              attack  accuracy  \\\n",
       "0  ShadowModelling(Classifier(Unknown SetFeature,...     0.638   \n",
       "\n",
       "   true_positive_rate  false_positive_rate  mia_advantage  privacy_gain  \\\n",
       "0             0.50303             0.229703       0.273327      0.726673   \n",
       "\n",
       "        auc  effective_epsilon  \n",
       "0  0.659534           1.925909  "
      ]
     },
     "execution_count": 26,
     "metadata": {},
     "output_type": "execute_result"
    }
   ],
   "source": [
    "summary.get_metrics()"
   ]
  },
  {
   "cell_type": "code",
   "execution_count": 27,
   "id": "ee78dec1",
   "metadata": {},
   "outputs": [
    {
     "data": {
      "image/png": "[encoded data removed]",
      "text/plain": [
       "<Figure size 500x500 with 1 Axes>"
      ]
     },
     "metadata": {},
     "output_type": "display_data"
    }
   ],
   "source": [
    "plt.figure(figsize=(5,5))\n",
    "tpr, fpr, _ = roc_curve(summary.labels, summary.scores)\n",
    "plt.plot([0,1], [0,1], 'k--', alpha=.4)\n",
    "plt.plot(tpr, fpr)\n",
    "plt.xlim([0,1])\n",
    "plt.ylim([0,1]);"
   ]
  },
  {
   "cell_type": "markdown",
   "id": "24f49bc0",
   "metadata": {},
   "source": [
    "We now train with a *very* large number of samples. Now the shadow-modelling attack works very well!"
   ]
  },
  {
   "cell_type": "code",
   "execution_count": 28,
   "id": "98328ecd",
   "metadata": {},
   "outputs": [],
   "source": [
    "attack.train(threat_model, num_samples=10000)"
   ]
  },
  {
   "cell_type": "code",
   "execution_count": 29,
   "id": "75ddf7c4",
   "metadata": {},
   "outputs": [],
   "source": [
    "summary = threat_model.test(attack, num_samples=1000)"
   ]
  },
  {
   "cell_type": "code",
   "execution_count": 30,
   "id": "ecf1dd33",
   "metadata": {},
   "outputs": [
    {
     "data": {
      "text/html": [
       "<div>\n",
       "<style scoped>\n",
       "    .dataframe tbody tr th:only-of-type {\n",
       "        vertical-align: middle;\n",
       "    }\n",
       "\n",
       "    .dataframe tbody tr th {\n",
       "        vertical-align: top;\n",
       "    }\n",
       "\n",
       "    .dataframe thead th {\n",
       "        text-align: right;\n",
       "    }\n",
       "</style>\n",
       "<table border=\"1\" class=\"dataframe\">\n",
       "  <thead>\n",
       "    <tr style=\"text-align: right;\">\n",
       "      <th></th>\n",
       "      <th>dataset</th>\n",
       "      <th>target_id</th>\n",
       "      <th>generator</th>\n",
       "      <th>attack</th>\n",
       "      <th>accuracy</th>\n",
       "      <th>true_positive_rate</th>\n",
       "      <th>false_positive_rate</th>\n",
       "      <th>mia_advantage</th>\n",
       "      <th>privacy_gain</th>\n",
       "      <th>auc</th>\n",
       "      <th>effective_epsilon</th>\n",
       "    </tr>\n",
       "  </thead>\n",
       "  <tbody>\n",
       "    <tr>\n",
       "      <th>0</th>\n",
       "      <td>deezer_ego_nets (AUX)</td>\n",
       "      <td>0</td>\n",
       "      <td>Raw</td>\n",
       "      <td>ShadowModelling(Classifier(Unknown SetFeature,...</td>\n",
       "      <td>0.792</td>\n",
       "      <td>0.80202</td>\n",
       "      <td>0.217822</td>\n",
       "      <td>0.584198</td>\n",
       "      <td>0.415802</td>\n",
       "      <td>0.873545</td>\n",
       "      <td>inf</td>\n",
       "    </tr>\n",
       "  </tbody>\n",
       "</table>\n",
       "</div>"
      ],
      "text/plain": [
       "                 dataset target_id generator  \\\n",
       "0  deezer_ego_nets (AUX)         0       Raw   \n",
       "\n",
       "                                              attack  accuracy  \\\n",
       "0  ShadowModelling(Classifier(Unknown SetFeature,...     0.792   \n",
       "\n",
       "   true_positive_rate  false_positive_rate  mia_advantage  privacy_gain  \\\n",
       "0             0.80202             0.217822       0.584198      0.415802   \n",
       "\n",
       "        auc  effective_epsilon  \n",
       "0  0.873545                inf  "
      ]
     },
     "execution_count": 30,
     "metadata": {},
     "output_type": "execute_result"
    }
   ],
   "source": [
    "summary.get_metrics()"
   ]
  },
  {
   "cell_type": "code",
   "execution_count": 31,
   "id": "b69b83f1",
   "metadata": {},
   "outputs": [
    {
     "data": {
      "image/png": "[encoded data removed]",
      "text/plain": [
       "<Figure size 500x500 with 1 Axes>"
      ]
     },
     "metadata": {},
     "output_type": "display_data"
    }
   ],
   "source": [
    "plt.figure(figsize=(5,5))\n",
    "tpr, fpr, _ = roc_curve(summary.labels, summary.scores)\n",
    "plt.plot([0,1], [0,1], 'k--', alpha=.4)\n",
    "plt.plot(tpr, fpr)\n",
    "plt.xlim([0,1])\n",
    "plt.ylim([0,1]);"
   ]
  },
  {
   "cell_type": "markdown",
   "id": "c396218a",
   "metadata": {},
   "source": [
    "### Composed graph classifier\n",
    "\n",
    "We now use our custom composed graph classifier (using the same parameters otherwise). Note that this is very slow, since the kernel needs to be recomputed for every dataset.\n",
    "\n",
    "Surprisingly, this works very well, almost as well as distance-based attack (although it is noticeably slower), even with a small number of samples."
   ]
  },
  {
   "cell_type": "code",
   "execution_count": 32,
   "id": "9f7ba1ce",
   "metadata": {},
   "outputs": [],
   "source": [
    "attack = tapas.attacks.ShadowModellingAttack(\n",
    "    tapas.attacks.ComposedGraphClassifier(\n",
    "        classifier = RandomForestClassifier(),\n",
    "        # Remove all memoization (this expects a grakel.Kernel).\n",
    "        kernel = kernel.kernel\n",
    "    ),\n",
    "    label = 'ComposedAttack'\n",
    ")"
   ]
  },
  {
   "cell_type": "code",
   "execution_count": 33,
   "id": "6fe0d3d8",
   "metadata": {},
   "outputs": [],
   "source": [
    "attack.train(threat_model, num_samples=100)"
   ]
  },
  {
   "cell_type": "code",
   "execution_count": 34,
   "id": "4dbd373d",
   "metadata": {},
   "outputs": [],
   "source": [
    "summary = threat_model.test(attack, num_samples=1000)"
   ]
  },
  {
   "cell_type": "code",
   "execution_count": 35,
   "id": "7affb433",
   "metadata": {},
   "outputs": [
    {
     "data": {
      "text/html": [
       "<div>\n",
       "<style scoped>\n",
       "    .dataframe tbody tr th:only-of-type {\n",
       "        vertical-align: middle;\n",
       "    }\n",
       "\n",
       "    .dataframe tbody tr th {\n",
       "        vertical-align: top;\n",
       "    }\n",
       "\n",
       "    .dataframe thead th {\n",
       "        text-align: right;\n",
       "    }\n",
       "</style>\n",
       "<table border=\"1\" class=\"dataframe\">\n",
       "  <thead>\n",
       "    <tr style=\"text-align: right;\">\n",
       "      <th></th>\n",
       "      <th>dataset</th>\n",
       "      <th>target_id</th>\n",
       "      <th>generator</th>\n",
       "      <th>attack</th>\n",
       "      <th>accuracy</th>\n",
       "      <th>true_positive_rate</th>\n",
       "      <th>false_positive_rate</th>\n",
       "      <th>mia_advantage</th>\n",
       "      <th>privacy_gain</th>\n",
       "      <th>auc</th>\n",
       "      <th>effective_epsilon</th>\n",
       "    </tr>\n",
       "  </thead>\n",
       "  <tbody>\n",
       "    <tr>\n",
       "      <th>0</th>\n",
       "      <td>deezer_ego_nets (AUX)</td>\n",
       "      <td>0</td>\n",
       "      <td>Raw</td>\n",
       "      <td>ComposedAttack</td>\n",
       "      <td>0.939</td>\n",
       "      <td>0.915152</td>\n",
       "      <td>0.037624</td>\n",
       "      <td>0.877528</td>\n",
       "      <td>0.122472</td>\n",
       "      <td>0.987177</td>\n",
       "      <td>inf</td>\n",
       "    </tr>\n",
       "  </tbody>\n",
       "</table>\n",
       "</div>"
      ],
      "text/plain": [
       "                 dataset target_id generator          attack  accuracy  \\\n",
       "0  deezer_ego_nets (AUX)         0       Raw  ComposedAttack     0.939   \n",
       "\n",
       "   true_positive_rate  false_positive_rate  mia_advantage  privacy_gain  \\\n",
       "0            0.915152             0.037624       0.877528      0.122472   \n",
       "\n",
       "        auc  effective_epsilon  \n",
       "0  0.987177                inf  "
      ]
     },
     "execution_count": 35,
     "metadata": {},
     "output_type": "execute_result"
    }
   ],
   "source": [
    "summary.get_metrics()"
   ]
  },
  {
   "cell_type": "code",
   "execution_count": 36,
   "id": "16d04c40",
   "metadata": {},
   "outputs": [
    {
     "data": {
      "image/png": "[encoded data removed]",
      "text/plain": [
       "<Figure size 500x500 with 1 Axes>"
      ]
     },
     "metadata": {},
     "output_type": "display_data"
    }
   ],
   "source": [
    "plt.figure(figsize=(5,5))\n",
    "tpr, fpr, _ = roc_curve(summary.labels, summary.scores)\n",
    "plt.plot([0,1], [0,1], 'k--', alpha=.4)\n",
    "plt.plot(tpr, fpr)\n",
    "plt.xlim([0,1])\n",
    "plt.ylim([0,1]);"
   ]
  }
 ],
 "metadata": {
  "kernelspec": {
   "display_name": "Python 3 (ipykernel)",
   "language": "python",
   "name": "python3"
  },
  "language_info": {
   "codemirror_mode": {
    "name": "ipython",
    "version": 3
   },
   "file_extension": ".py",
   "mimetype": "text/x-python",
   "name": "python",
   "nbconvert_exporter": "python",
   "pygments_lexer": "ipython3",
   "version": "3.10.11"
  }
 },
 "nbformat": 4,
 "nbformat_minor": 5
}
